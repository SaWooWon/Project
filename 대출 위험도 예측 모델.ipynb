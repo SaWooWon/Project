{
 "cells": [
  {
   "cell_type": "markdown",
   "id": "c6a6dbfc",
   "metadata": {},
   "source": [
    "# 데이터 불러오기 "
   ]
  },
  {
   "cell_type": "code",
   "execution_count": 1,
   "id": "d0ac484b",
   "metadata": {
    "ExecuteTime": {
     "end_time": "2023-02-11T14:26:33.611412Z",
     "start_time": "2023-02-11T14:26:32.816273Z"
    }
   },
   "outputs": [],
   "source": [
    "import numpy as np\n",
    "import pandas as pd"
   ]
  },
  {
   "cell_type": "code",
   "execution_count": 2,
   "id": "dd834b56",
   "metadata": {
    "ExecuteTime": {
     "end_time": "2023-02-11T14:26:34.550910Z",
     "start_time": "2023-02-11T14:26:34.267017Z"
    },
    "scrolled": true
   },
   "outputs": [
    {
     "data": {
      "text/html": [
       "<div>\n",
       "<style scoped>\n",
       "    .dataframe tbody tr th:only-of-type {\n",
       "        vertical-align: middle;\n",
       "    }\n",
       "\n",
       "    .dataframe tbody tr th {\n",
       "        vertical-align: top;\n",
       "    }\n",
       "\n",
       "    .dataframe thead th {\n",
       "        text-align: right;\n",
       "    }\n",
       "</style>\n",
       "<table border=\"1\" class=\"dataframe\">\n",
       "  <thead>\n",
       "    <tr style=\"text-align: right;\">\n",
       "      <th></th>\n",
       "      <th>SeriousDlqin2yrs</th>\n",
       "      <th>RevolvingUtilizationOfUnsecuredLines</th>\n",
       "      <th>age</th>\n",
       "      <th>NumberOfTime30-59DaysPastDueNotWorse</th>\n",
       "      <th>DebtRatio</th>\n",
       "      <th>MonthlyIncome</th>\n",
       "      <th>NumberOfOpenCreditLinesAndLoans</th>\n",
       "      <th>NumberOfTimes90DaysLate</th>\n",
       "      <th>NumberRealEstateLoansOrLines</th>\n",
       "      <th>NumberOfTime60-89DaysPastDueNotWorse</th>\n",
       "      <th>NumberOfDependents</th>\n",
       "    </tr>\n",
       "  </thead>\n",
       "  <tbody>\n",
       "    <tr>\n",
       "      <th>1</th>\n",
       "      <td>1</td>\n",
       "      <td>0.766127</td>\n",
       "      <td>45</td>\n",
       "      <td>2</td>\n",
       "      <td>0.802982</td>\n",
       "      <td>9120.0</td>\n",
       "      <td>13</td>\n",
       "      <td>0</td>\n",
       "      <td>6</td>\n",
       "      <td>0</td>\n",
       "      <td>2.0</td>\n",
       "    </tr>\n",
       "    <tr>\n",
       "      <th>2</th>\n",
       "      <td>0</td>\n",
       "      <td>0.957151</td>\n",
       "      <td>40</td>\n",
       "      <td>0</td>\n",
       "      <td>0.121876</td>\n",
       "      <td>2600.0</td>\n",
       "      <td>4</td>\n",
       "      <td>0</td>\n",
       "      <td>0</td>\n",
       "      <td>0</td>\n",
       "      <td>1.0</td>\n",
       "    </tr>\n",
       "    <tr>\n",
       "      <th>3</th>\n",
       "      <td>0</td>\n",
       "      <td>0.658180</td>\n",
       "      <td>38</td>\n",
       "      <td>1</td>\n",
       "      <td>0.085113</td>\n",
       "      <td>3042.0</td>\n",
       "      <td>2</td>\n",
       "      <td>1</td>\n",
       "      <td>0</td>\n",
       "      <td>0</td>\n",
       "      <td>0.0</td>\n",
       "    </tr>\n",
       "    <tr>\n",
       "      <th>4</th>\n",
       "      <td>0</td>\n",
       "      <td>0.233810</td>\n",
       "      <td>30</td>\n",
       "      <td>0</td>\n",
       "      <td>0.036050</td>\n",
       "      <td>3300.0</td>\n",
       "      <td>5</td>\n",
       "      <td>0</td>\n",
       "      <td>0</td>\n",
       "      <td>0</td>\n",
       "      <td>0.0</td>\n",
       "    </tr>\n",
       "    <tr>\n",
       "      <th>5</th>\n",
       "      <td>0</td>\n",
       "      <td>0.907239</td>\n",
       "      <td>49</td>\n",
       "      <td>1</td>\n",
       "      <td>0.024926</td>\n",
       "      <td>63588.0</td>\n",
       "      <td>7</td>\n",
       "      <td>0</td>\n",
       "      <td>1</td>\n",
       "      <td>0</td>\n",
       "      <td>0.0</td>\n",
       "    </tr>\n",
       "    <tr>\n",
       "      <th>...</th>\n",
       "      <td>...</td>\n",
       "      <td>...</td>\n",
       "      <td>...</td>\n",
       "      <td>...</td>\n",
       "      <td>...</td>\n",
       "      <td>...</td>\n",
       "      <td>...</td>\n",
       "      <td>...</td>\n",
       "      <td>...</td>\n",
       "      <td>...</td>\n",
       "      <td>...</td>\n",
       "    </tr>\n",
       "    <tr>\n",
       "      <th>149996</th>\n",
       "      <td>0</td>\n",
       "      <td>0.040674</td>\n",
       "      <td>74</td>\n",
       "      <td>0</td>\n",
       "      <td>0.225131</td>\n",
       "      <td>2100.0</td>\n",
       "      <td>4</td>\n",
       "      <td>0</td>\n",
       "      <td>1</td>\n",
       "      <td>0</td>\n",
       "      <td>0.0</td>\n",
       "    </tr>\n",
       "    <tr>\n",
       "      <th>149997</th>\n",
       "      <td>0</td>\n",
       "      <td>0.299745</td>\n",
       "      <td>44</td>\n",
       "      <td>0</td>\n",
       "      <td>0.716562</td>\n",
       "      <td>5584.0</td>\n",
       "      <td>4</td>\n",
       "      <td>0</td>\n",
       "      <td>1</td>\n",
       "      <td>0</td>\n",
       "      <td>2.0</td>\n",
       "    </tr>\n",
       "    <tr>\n",
       "      <th>149998</th>\n",
       "      <td>0</td>\n",
       "      <td>0.246044</td>\n",
       "      <td>58</td>\n",
       "      <td>0</td>\n",
       "      <td>3870.000000</td>\n",
       "      <td>NaN</td>\n",
       "      <td>18</td>\n",
       "      <td>0</td>\n",
       "      <td>1</td>\n",
       "      <td>0</td>\n",
       "      <td>0.0</td>\n",
       "    </tr>\n",
       "    <tr>\n",
       "      <th>149999</th>\n",
       "      <td>0</td>\n",
       "      <td>0.000000</td>\n",
       "      <td>30</td>\n",
       "      <td>0</td>\n",
       "      <td>0.000000</td>\n",
       "      <td>5716.0</td>\n",
       "      <td>4</td>\n",
       "      <td>0</td>\n",
       "      <td>0</td>\n",
       "      <td>0</td>\n",
       "      <td>0.0</td>\n",
       "    </tr>\n",
       "    <tr>\n",
       "      <th>150000</th>\n",
       "      <td>0</td>\n",
       "      <td>0.850283</td>\n",
       "      <td>64</td>\n",
       "      <td>0</td>\n",
       "      <td>0.249908</td>\n",
       "      <td>8158.0</td>\n",
       "      <td>8</td>\n",
       "      <td>0</td>\n",
       "      <td>2</td>\n",
       "      <td>0</td>\n",
       "      <td>0.0</td>\n",
       "    </tr>\n",
       "  </tbody>\n",
       "</table>\n",
       "<p>150000 rows × 11 columns</p>\n",
       "</div>"
      ],
      "text/plain": [
       "        SeriousDlqin2yrs  RevolvingUtilizationOfUnsecuredLines  age  \\\n",
       "1                      1                              0.766127   45   \n",
       "2                      0                              0.957151   40   \n",
       "3                      0                              0.658180   38   \n",
       "4                      0                              0.233810   30   \n",
       "5                      0                              0.907239   49   \n",
       "...                  ...                                   ...  ...   \n",
       "149996                 0                              0.040674   74   \n",
       "149997                 0                              0.299745   44   \n",
       "149998                 0                              0.246044   58   \n",
       "149999                 0                              0.000000   30   \n",
       "150000                 0                              0.850283   64   \n",
       "\n",
       "        NumberOfTime30-59DaysPastDueNotWorse    DebtRatio  MonthlyIncome  \\\n",
       "1                                          2     0.802982         9120.0   \n",
       "2                                          0     0.121876         2600.0   \n",
       "3                                          1     0.085113         3042.0   \n",
       "4                                          0     0.036050         3300.0   \n",
       "5                                          1     0.024926        63588.0   \n",
       "...                                      ...          ...            ...   \n",
       "149996                                     0     0.225131         2100.0   \n",
       "149997                                     0     0.716562         5584.0   \n",
       "149998                                     0  3870.000000            NaN   \n",
       "149999                                     0     0.000000         5716.0   \n",
       "150000                                     0     0.249908         8158.0   \n",
       "\n",
       "        NumberOfOpenCreditLinesAndLoans  NumberOfTimes90DaysLate  \\\n",
       "1                                    13                        0   \n",
       "2                                     4                        0   \n",
       "3                                     2                        1   \n",
       "4                                     5                        0   \n",
       "5                                     7                        0   \n",
       "...                                 ...                      ...   \n",
       "149996                                4                        0   \n",
       "149997                                4                        0   \n",
       "149998                               18                        0   \n",
       "149999                                4                        0   \n",
       "150000                                8                        0   \n",
       "\n",
       "        NumberRealEstateLoansOrLines  NumberOfTime60-89DaysPastDueNotWorse  \\\n",
       "1                                  6                                     0   \n",
       "2                                  0                                     0   \n",
       "3                                  0                                     0   \n",
       "4                                  0                                     0   \n",
       "5                                  1                                     0   \n",
       "...                              ...                                   ...   \n",
       "149996                             1                                     0   \n",
       "149997                             1                                     0   \n",
       "149998                             1                                     0   \n",
       "149999                             0                                     0   \n",
       "150000                             2                                     0   \n",
       "\n",
       "        NumberOfDependents  \n",
       "1                      2.0  \n",
       "2                      1.0  \n",
       "3                      0.0  \n",
       "4                      0.0  \n",
       "5                      0.0  \n",
       "...                    ...  \n",
       "149996                 0.0  \n",
       "149997                 2.0  \n",
       "149998                 0.0  \n",
       "149999                 0.0  \n",
       "150000                 0.0  \n",
       "\n",
       "[150000 rows x 11 columns]"
      ]
     },
     "execution_count": 2,
     "metadata": {},
     "output_type": "execute_result"
    }
   ],
   "source": [
    "data = pd.read_csv('cs_data.csv', index_col = 0)\n",
    "data"
   ]
  },
  {
   "cell_type": "markdown",
   "id": "7ecbc8b6",
   "metadata": {},
   "source": [
    "# 결측치 제거 "
   ]
  },
  {
   "cell_type": "code",
   "execution_count": 3,
   "id": "7172ef75",
   "metadata": {
    "ExecuteTime": {
     "end_time": "2023-02-11T14:26:37.384316Z",
     "start_time": "2023-02-11T14:26:37.366542Z"
    }
   },
   "outputs": [
    {
     "data": {
      "text/plain": [
       "SeriousDlqin2yrs                            0\n",
       "RevolvingUtilizationOfUnsecuredLines        0\n",
       "age                                         0\n",
       "NumberOfTime30-59DaysPastDueNotWorse        0\n",
       "DebtRatio                                   0\n",
       "MonthlyIncome                           29731\n",
       "NumberOfOpenCreditLinesAndLoans             0\n",
       "NumberOfTimes90DaysLate                     0\n",
       "NumberRealEstateLoansOrLines                0\n",
       "NumberOfTime60-89DaysPastDueNotWorse        0\n",
       "NumberOfDependents                       3924\n",
       "dtype: int64"
      ]
     },
     "execution_count": 3,
     "metadata": {},
     "output_type": "execute_result"
    }
   ],
   "source": [
    "data.isnull().sum()"
   ]
  },
  {
   "cell_type": "code",
   "execution_count": 4,
   "id": "562d9cc9",
   "metadata": {
    "ExecuteTime": {
     "end_time": "2023-02-11T14:26:38.632866Z",
     "start_time": "2023-02-11T14:26:38.607667Z"
    }
   },
   "outputs": [],
   "source": [
    "df = data.dropna()"
   ]
  },
  {
   "cell_type": "code",
   "execution_count": 5,
   "id": "af6cab9c",
   "metadata": {
    "ExecuteTime": {
     "end_time": "2023-02-11T14:26:39.307788Z",
     "start_time": "2023-02-11T14:26:39.285105Z"
    }
   },
   "outputs": [
    {
     "data": {
      "text/plain": [
       "SeriousDlqin2yrs                        0\n",
       "RevolvingUtilizationOfUnsecuredLines    0\n",
       "age                                     0\n",
       "NumberOfTime30-59DaysPastDueNotWorse    0\n",
       "DebtRatio                               0\n",
       "MonthlyIncome                           0\n",
       "NumberOfOpenCreditLinesAndLoans         0\n",
       "NumberOfTimes90DaysLate                 0\n",
       "NumberRealEstateLoansOrLines            0\n",
       "NumberOfTime60-89DaysPastDueNotWorse    0\n",
       "NumberOfDependents                      0\n",
       "dtype: int64"
      ]
     },
     "execution_count": 5,
     "metadata": {},
     "output_type": "execute_result"
    }
   ],
   "source": [
    "df.isnull().sum()"
   ]
  },
  {
   "cell_type": "code",
   "execution_count": 6,
   "id": "137736d7",
   "metadata": {
    "ExecuteTime": {
     "end_time": "2023-02-11T14:26:39.959566Z",
     "start_time": "2023-02-11T14:26:39.818802Z"
    },
    "scrolled": false
   },
   "outputs": [
    {
     "name": "stdout",
     "output_type": "stream",
     "text": [
      "<class 'pandas.core.frame.DataFrame'>\n",
      "Int64Index: 120269 entries, 1 to 150000\n",
      "Data columns (total 11 columns):\n",
      " #   Column                                Non-Null Count   Dtype  \n",
      "---  ------                                --------------   -----  \n",
      " 0   SeriousDlqin2yrs                      120269 non-null  int64  \n",
      " 1   RevolvingUtilizationOfUnsecuredLines  120269 non-null  float64\n",
      " 2   age                                   120269 non-null  int64  \n",
      " 3   NumberOfTime30-59DaysPastDueNotWorse  120269 non-null  int64  \n",
      " 4   DebtRatio                             120269 non-null  float64\n",
      " 5   MonthlyIncome                         120269 non-null  float64\n",
      " 6   NumberOfOpenCreditLinesAndLoans       120269 non-null  int64  \n",
      " 7   NumberOfTimes90DaysLate               120269 non-null  int64  \n",
      " 8   NumberRealEstateLoansOrLines          120269 non-null  int64  \n",
      " 9   NumberOfTime60-89DaysPastDueNotWorse  120269 non-null  int64  \n",
      " 10  NumberOfDependents                    120269 non-null  float64\n",
      "dtypes: float64(4), int64(7)\n",
      "memory usage: 11.0 MB\n"
     ]
    },
    {
     "data": {
      "text/html": [
       "<div>\n",
       "<style scoped>\n",
       "    .dataframe tbody tr th:only-of-type {\n",
       "        vertical-align: middle;\n",
       "    }\n",
       "\n",
       "    .dataframe tbody tr th {\n",
       "        vertical-align: top;\n",
       "    }\n",
       "\n",
       "    .dataframe thead th {\n",
       "        text-align: right;\n",
       "    }\n",
       "</style>\n",
       "<table border=\"1\" class=\"dataframe\">\n",
       "  <thead>\n",
       "    <tr style=\"text-align: right;\">\n",
       "      <th></th>\n",
       "      <th>count</th>\n",
       "      <th>mean</th>\n",
       "      <th>std</th>\n",
       "      <th>min</th>\n",
       "      <th>25%</th>\n",
       "      <th>50%</th>\n",
       "      <th>75%</th>\n",
       "      <th>max</th>\n",
       "    </tr>\n",
       "  </thead>\n",
       "  <tbody>\n",
       "    <tr>\n",
       "      <th>SeriousDlqin2yrs</th>\n",
       "      <td>120269.0</td>\n",
       "      <td>0.069486</td>\n",
       "      <td>0.254280</td>\n",
       "      <td>0.0</td>\n",
       "      <td>0.000000</td>\n",
       "      <td>0.000000</td>\n",
       "      <td>0.000000</td>\n",
       "      <td>1.0</td>\n",
       "    </tr>\n",
       "    <tr>\n",
       "      <th>RevolvingUtilizationOfUnsecuredLines</th>\n",
       "      <td>120269.0</td>\n",
       "      <td>5.899873</td>\n",
       "      <td>257.040685</td>\n",
       "      <td>0.0</td>\n",
       "      <td>0.035084</td>\n",
       "      <td>0.177282</td>\n",
       "      <td>0.579428</td>\n",
       "      <td>50708.0</td>\n",
       "    </tr>\n",
       "    <tr>\n",
       "      <th>age</th>\n",
       "      <td>120269.0</td>\n",
       "      <td>51.289792</td>\n",
       "      <td>14.426684</td>\n",
       "      <td>0.0</td>\n",
       "      <td>40.000000</td>\n",
       "      <td>51.000000</td>\n",
       "      <td>61.000000</td>\n",
       "      <td>103.0</td>\n",
       "    </tr>\n",
       "    <tr>\n",
       "      <th>NumberOfTime30-59DaysPastDueNotWorse</th>\n",
       "      <td>120269.0</td>\n",
       "      <td>0.381769</td>\n",
       "      <td>3.499234</td>\n",
       "      <td>0.0</td>\n",
       "      <td>0.000000</td>\n",
       "      <td>0.000000</td>\n",
       "      <td>0.000000</td>\n",
       "      <td>98.0</td>\n",
       "    </tr>\n",
       "    <tr>\n",
       "      <th>DebtRatio</th>\n",
       "      <td>120269.0</td>\n",
       "      <td>26.598777</td>\n",
       "      <td>424.446457</td>\n",
       "      <td>0.0</td>\n",
       "      <td>0.143388</td>\n",
       "      <td>0.296023</td>\n",
       "      <td>0.482559</td>\n",
       "      <td>61106.5</td>\n",
       "    </tr>\n",
       "    <tr>\n",
       "      <th>MonthlyIncome</th>\n",
       "      <td>120269.0</td>\n",
       "      <td>6670.221237</td>\n",
       "      <td>14384.674215</td>\n",
       "      <td>0.0</td>\n",
       "      <td>3400.000000</td>\n",
       "      <td>5400.000000</td>\n",
       "      <td>8249.000000</td>\n",
       "      <td>3008750.0</td>\n",
       "    </tr>\n",
       "    <tr>\n",
       "      <th>NumberOfOpenCreditLinesAndLoans</th>\n",
       "      <td>120269.0</td>\n",
       "      <td>8.758475</td>\n",
       "      <td>5.172835</td>\n",
       "      <td>0.0</td>\n",
       "      <td>5.000000</td>\n",
       "      <td>8.000000</td>\n",
       "      <td>11.000000</td>\n",
       "      <td>58.0</td>\n",
       "    </tr>\n",
       "    <tr>\n",
       "      <th>NumberOfTimes90DaysLate</th>\n",
       "      <td>120269.0</td>\n",
       "      <td>0.211925</td>\n",
       "      <td>3.465276</td>\n",
       "      <td>0.0</td>\n",
       "      <td>0.000000</td>\n",
       "      <td>0.000000</td>\n",
       "      <td>0.000000</td>\n",
       "      <td>98.0</td>\n",
       "    </tr>\n",
       "    <tr>\n",
       "      <th>NumberRealEstateLoansOrLines</th>\n",
       "      <td>120269.0</td>\n",
       "      <td>1.054519</td>\n",
       "      <td>1.149273</td>\n",
       "      <td>0.0</td>\n",
       "      <td>0.000000</td>\n",
       "      <td>1.000000</td>\n",
       "      <td>2.000000</td>\n",
       "      <td>54.0</td>\n",
       "    </tr>\n",
       "    <tr>\n",
       "      <th>NumberOfTime60-89DaysPastDueNotWorse</th>\n",
       "      <td>120269.0</td>\n",
       "      <td>0.187829</td>\n",
       "      <td>3.447901</td>\n",
       "      <td>0.0</td>\n",
       "      <td>0.000000</td>\n",
       "      <td>0.000000</td>\n",
       "      <td>0.000000</td>\n",
       "      <td>98.0</td>\n",
       "    </tr>\n",
       "    <tr>\n",
       "      <th>NumberOfDependents</th>\n",
       "      <td>120269.0</td>\n",
       "      <td>0.851832</td>\n",
       "      <td>1.148391</td>\n",
       "      <td>0.0</td>\n",
       "      <td>0.000000</td>\n",
       "      <td>0.000000</td>\n",
       "      <td>2.000000</td>\n",
       "      <td>20.0</td>\n",
       "    </tr>\n",
       "  </tbody>\n",
       "</table>\n",
       "</div>"
      ],
      "text/plain": [
       "                                         count         mean           std  \\\n",
       "SeriousDlqin2yrs                      120269.0     0.069486      0.254280   \n",
       "RevolvingUtilizationOfUnsecuredLines  120269.0     5.899873    257.040685   \n",
       "age                                   120269.0    51.289792     14.426684   \n",
       "NumberOfTime30-59DaysPastDueNotWorse  120269.0     0.381769      3.499234   \n",
       "DebtRatio                             120269.0    26.598777    424.446457   \n",
       "MonthlyIncome                         120269.0  6670.221237  14384.674215   \n",
       "NumberOfOpenCreditLinesAndLoans       120269.0     8.758475      5.172835   \n",
       "NumberOfTimes90DaysLate               120269.0     0.211925      3.465276   \n",
       "NumberRealEstateLoansOrLines          120269.0     1.054519      1.149273   \n",
       "NumberOfTime60-89DaysPastDueNotWorse  120269.0     0.187829      3.447901   \n",
       "NumberOfDependents                    120269.0     0.851832      1.148391   \n",
       "\n",
       "                                      min          25%          50%  \\\n",
       "SeriousDlqin2yrs                      0.0     0.000000     0.000000   \n",
       "RevolvingUtilizationOfUnsecuredLines  0.0     0.035084     0.177282   \n",
       "age                                   0.0    40.000000    51.000000   \n",
       "NumberOfTime30-59DaysPastDueNotWorse  0.0     0.000000     0.000000   \n",
       "DebtRatio                             0.0     0.143388     0.296023   \n",
       "MonthlyIncome                         0.0  3400.000000  5400.000000   \n",
       "NumberOfOpenCreditLinesAndLoans       0.0     5.000000     8.000000   \n",
       "NumberOfTimes90DaysLate               0.0     0.000000     0.000000   \n",
       "NumberRealEstateLoansOrLines          0.0     0.000000     1.000000   \n",
       "NumberOfTime60-89DaysPastDueNotWorse  0.0     0.000000     0.000000   \n",
       "NumberOfDependents                    0.0     0.000000     0.000000   \n",
       "\n",
       "                                              75%        max  \n",
       "SeriousDlqin2yrs                         0.000000        1.0  \n",
       "RevolvingUtilizationOfUnsecuredLines     0.579428    50708.0  \n",
       "age                                     61.000000      103.0  \n",
       "NumberOfTime30-59DaysPastDueNotWorse     0.000000       98.0  \n",
       "DebtRatio                                0.482559    61106.5  \n",
       "MonthlyIncome                         8249.000000  3008750.0  \n",
       "NumberOfOpenCreditLinesAndLoans         11.000000       58.0  \n",
       "NumberOfTimes90DaysLate                  0.000000       98.0  \n",
       "NumberRealEstateLoansOrLines             2.000000       54.0  \n",
       "NumberOfTime60-89DaysPastDueNotWorse     0.000000       98.0  \n",
       "NumberOfDependents                       2.000000       20.0  "
      ]
     },
     "execution_count": 6,
     "metadata": {},
     "output_type": "execute_result"
    }
   ],
   "source": [
    "df.info()\n",
    "df.describe().T"
   ]
  },
  {
   "cell_type": "code",
   "execution_count": 7,
   "id": "f1b21e60",
   "metadata": {
    "ExecuteTime": {
     "end_time": "2023-02-11T14:26:40.728295Z",
     "start_time": "2023-02-11T14:26:40.687791Z"
    }
   },
   "outputs": [
    {
     "data": {
      "text/html": [
       "<div>\n",
       "<style scoped>\n",
       "    .dataframe tbody tr th:only-of-type {\n",
       "        vertical-align: middle;\n",
       "    }\n",
       "\n",
       "    .dataframe tbody tr th {\n",
       "        vertical-align: top;\n",
       "    }\n",
       "\n",
       "    .dataframe thead th {\n",
       "        text-align: right;\n",
       "    }\n",
       "</style>\n",
       "<table border=\"1\" class=\"dataframe\">\n",
       "  <thead>\n",
       "    <tr style=\"text-align: right;\">\n",
       "      <th></th>\n",
       "      <th>SeriousDlqin2yrs</th>\n",
       "      <th>RevolvingUtilizationOfUnsecuredLines</th>\n",
       "      <th>age</th>\n",
       "      <th>NumberOfTime30-59DaysPastDueNotWorse</th>\n",
       "      <th>DebtRatio</th>\n",
       "      <th>MonthlyIncome</th>\n",
       "      <th>NumberOfOpenCreditLinesAndLoans</th>\n",
       "      <th>NumberOfTimes90DaysLate</th>\n",
       "      <th>NumberRealEstateLoansOrLines</th>\n",
       "      <th>NumberOfTime60-89DaysPastDueNotWorse</th>\n",
       "      <th>NumberOfDependents</th>\n",
       "    </tr>\n",
       "  </thead>\n",
       "  <tbody>\n",
       "    <tr>\n",
       "      <th>0</th>\n",
       "      <td>1</td>\n",
       "      <td>0.766127</td>\n",
       "      <td>45</td>\n",
       "      <td>2</td>\n",
       "      <td>0.802982</td>\n",
       "      <td>9120.0</td>\n",
       "      <td>13</td>\n",
       "      <td>0</td>\n",
       "      <td>6</td>\n",
       "      <td>0</td>\n",
       "      <td>2.0</td>\n",
       "    </tr>\n",
       "    <tr>\n",
       "      <th>1</th>\n",
       "      <td>0</td>\n",
       "      <td>0.957151</td>\n",
       "      <td>40</td>\n",
       "      <td>0</td>\n",
       "      <td>0.121876</td>\n",
       "      <td>2600.0</td>\n",
       "      <td>4</td>\n",
       "      <td>0</td>\n",
       "      <td>0</td>\n",
       "      <td>0</td>\n",
       "      <td>1.0</td>\n",
       "    </tr>\n",
       "    <tr>\n",
       "      <th>2</th>\n",
       "      <td>0</td>\n",
       "      <td>0.658180</td>\n",
       "      <td>38</td>\n",
       "      <td>1</td>\n",
       "      <td>0.085113</td>\n",
       "      <td>3042.0</td>\n",
       "      <td>2</td>\n",
       "      <td>1</td>\n",
       "      <td>0</td>\n",
       "      <td>0</td>\n",
       "      <td>0.0</td>\n",
       "    </tr>\n",
       "    <tr>\n",
       "      <th>3</th>\n",
       "      <td>0</td>\n",
       "      <td>0.233810</td>\n",
       "      <td>30</td>\n",
       "      <td>0</td>\n",
       "      <td>0.036050</td>\n",
       "      <td>3300.0</td>\n",
       "      <td>5</td>\n",
       "      <td>0</td>\n",
       "      <td>0</td>\n",
       "      <td>0</td>\n",
       "      <td>0.0</td>\n",
       "    </tr>\n",
       "    <tr>\n",
       "      <th>4</th>\n",
       "      <td>0</td>\n",
       "      <td>0.907239</td>\n",
       "      <td>49</td>\n",
       "      <td>1</td>\n",
       "      <td>0.024926</td>\n",
       "      <td>63588.0</td>\n",
       "      <td>7</td>\n",
       "      <td>0</td>\n",
       "      <td>1</td>\n",
       "      <td>0</td>\n",
       "      <td>0.0</td>\n",
       "    </tr>\n",
       "    <tr>\n",
       "      <th>...</th>\n",
       "      <td>...</td>\n",
       "      <td>...</td>\n",
       "      <td>...</td>\n",
       "      <td>...</td>\n",
       "      <td>...</td>\n",
       "      <td>...</td>\n",
       "      <td>...</td>\n",
       "      <td>...</td>\n",
       "      <td>...</td>\n",
       "      <td>...</td>\n",
       "      <td>...</td>\n",
       "    </tr>\n",
       "    <tr>\n",
       "      <th>120264</th>\n",
       "      <td>0</td>\n",
       "      <td>0.385742</td>\n",
       "      <td>50</td>\n",
       "      <td>0</td>\n",
       "      <td>0.404293</td>\n",
       "      <td>3400.0</td>\n",
       "      <td>7</td>\n",
       "      <td>0</td>\n",
       "      <td>0</td>\n",
       "      <td>0</td>\n",
       "      <td>0.0</td>\n",
       "    </tr>\n",
       "    <tr>\n",
       "      <th>120265</th>\n",
       "      <td>0</td>\n",
       "      <td>0.040674</td>\n",
       "      <td>74</td>\n",
       "      <td>0</td>\n",
       "      <td>0.225131</td>\n",
       "      <td>2100.0</td>\n",
       "      <td>4</td>\n",
       "      <td>0</td>\n",
       "      <td>1</td>\n",
       "      <td>0</td>\n",
       "      <td>0.0</td>\n",
       "    </tr>\n",
       "    <tr>\n",
       "      <th>120266</th>\n",
       "      <td>0</td>\n",
       "      <td>0.299745</td>\n",
       "      <td>44</td>\n",
       "      <td>0</td>\n",
       "      <td>0.716562</td>\n",
       "      <td>5584.0</td>\n",
       "      <td>4</td>\n",
       "      <td>0</td>\n",
       "      <td>1</td>\n",
       "      <td>0</td>\n",
       "      <td>2.0</td>\n",
       "    </tr>\n",
       "    <tr>\n",
       "      <th>120267</th>\n",
       "      <td>0</td>\n",
       "      <td>0.000000</td>\n",
       "      <td>30</td>\n",
       "      <td>0</td>\n",
       "      <td>0.000000</td>\n",
       "      <td>5716.0</td>\n",
       "      <td>4</td>\n",
       "      <td>0</td>\n",
       "      <td>0</td>\n",
       "      <td>0</td>\n",
       "      <td>0.0</td>\n",
       "    </tr>\n",
       "    <tr>\n",
       "      <th>120268</th>\n",
       "      <td>0</td>\n",
       "      <td>0.850283</td>\n",
       "      <td>64</td>\n",
       "      <td>0</td>\n",
       "      <td>0.249908</td>\n",
       "      <td>8158.0</td>\n",
       "      <td>8</td>\n",
       "      <td>0</td>\n",
       "      <td>2</td>\n",
       "      <td>0</td>\n",
       "      <td>0.0</td>\n",
       "    </tr>\n",
       "  </tbody>\n",
       "</table>\n",
       "<p>120269 rows × 11 columns</p>\n",
       "</div>"
      ],
      "text/plain": [
       "        SeriousDlqin2yrs  RevolvingUtilizationOfUnsecuredLines  age  \\\n",
       "0                      1                              0.766127   45   \n",
       "1                      0                              0.957151   40   \n",
       "2                      0                              0.658180   38   \n",
       "3                      0                              0.233810   30   \n",
       "4                      0                              0.907239   49   \n",
       "...                  ...                                   ...  ...   \n",
       "120264                 0                              0.385742   50   \n",
       "120265                 0                              0.040674   74   \n",
       "120266                 0                              0.299745   44   \n",
       "120267                 0                              0.000000   30   \n",
       "120268                 0                              0.850283   64   \n",
       "\n",
       "        NumberOfTime30-59DaysPastDueNotWorse  DebtRatio  MonthlyIncome  \\\n",
       "0                                          2   0.802982         9120.0   \n",
       "1                                          0   0.121876         2600.0   \n",
       "2                                          1   0.085113         3042.0   \n",
       "3                                          0   0.036050         3300.0   \n",
       "4                                          1   0.024926        63588.0   \n",
       "...                                      ...        ...            ...   \n",
       "120264                                     0   0.404293         3400.0   \n",
       "120265                                     0   0.225131         2100.0   \n",
       "120266                                     0   0.716562         5584.0   \n",
       "120267                                     0   0.000000         5716.0   \n",
       "120268                                     0   0.249908         8158.0   \n",
       "\n",
       "        NumberOfOpenCreditLinesAndLoans  NumberOfTimes90DaysLate  \\\n",
       "0                                    13                        0   \n",
       "1                                     4                        0   \n",
       "2                                     2                        1   \n",
       "3                                     5                        0   \n",
       "4                                     7                        0   \n",
       "...                                 ...                      ...   \n",
       "120264                                7                        0   \n",
       "120265                                4                        0   \n",
       "120266                                4                        0   \n",
       "120267                                4                        0   \n",
       "120268                                8                        0   \n",
       "\n",
       "        NumberRealEstateLoansOrLines  NumberOfTime60-89DaysPastDueNotWorse  \\\n",
       "0                                  6                                     0   \n",
       "1                                  0                                     0   \n",
       "2                                  0                                     0   \n",
       "3                                  0                                     0   \n",
       "4                                  1                                     0   \n",
       "...                              ...                                   ...   \n",
       "120264                             0                                     0   \n",
       "120265                             1                                     0   \n",
       "120266                             1                                     0   \n",
       "120267                             0                                     0   \n",
       "120268                             2                                     0   \n",
       "\n",
       "        NumberOfDependents  \n",
       "0                      2.0  \n",
       "1                      1.0  \n",
       "2                      0.0  \n",
       "3                      0.0  \n",
       "4                      0.0  \n",
       "...                    ...  \n",
       "120264                 0.0  \n",
       "120265                 0.0  \n",
       "120266                 2.0  \n",
       "120267                 0.0  \n",
       "120268                 0.0  \n",
       "\n",
       "[120269 rows x 11 columns]"
      ]
     },
     "execution_count": 7,
     "metadata": {},
     "output_type": "execute_result"
    }
   ],
   "source": [
    "df.reset_index(drop = True, inplace = True)\n",
    "df"
   ]
  },
  {
   "cell_type": "markdown",
   "id": "27f3fed3",
   "metadata": {},
   "source": [
    "# 이상치 처리 "
   ]
  },
  {
   "cell_type": "markdown",
   "id": "691f68f3",
   "metadata": {},
   "source": [
    "## 이상치 처리 - 제거 "
   ]
  },
  {
   "cell_type": "code",
   "execution_count": 8,
   "id": "11c35c94",
   "metadata": {
    "ExecuteTime": {
     "end_time": "2023-02-11T14:26:43.486519Z",
     "start_time": "2023-02-11T14:26:43.379306Z"
    }
   },
   "outputs": [
    {
     "data": {
      "text/html": [
       "<div>\n",
       "<style scoped>\n",
       "    .dataframe tbody tr th:only-of-type {\n",
       "        vertical-align: middle;\n",
       "    }\n",
       "\n",
       "    .dataframe tbody tr th {\n",
       "        vertical-align: top;\n",
       "    }\n",
       "\n",
       "    .dataframe thead th {\n",
       "        text-align: right;\n",
       "    }\n",
       "</style>\n",
       "<table border=\"1\" class=\"dataframe\">\n",
       "  <thead>\n",
       "    <tr style=\"text-align: right;\">\n",
       "      <th></th>\n",
       "      <th>count</th>\n",
       "      <th>mean</th>\n",
       "      <th>std</th>\n",
       "      <th>min</th>\n",
       "      <th>25%</th>\n",
       "      <th>50%</th>\n",
       "      <th>75%</th>\n",
       "      <th>max</th>\n",
       "    </tr>\n",
       "  </thead>\n",
       "  <tbody>\n",
       "    <tr>\n",
       "      <th>SeriousDlqin2yrs</th>\n",
       "      <td>120269.0</td>\n",
       "      <td>0.069486</td>\n",
       "      <td>0.254280</td>\n",
       "      <td>0.0</td>\n",
       "      <td>0.000000</td>\n",
       "      <td>0.000000</td>\n",
       "      <td>0.000000</td>\n",
       "      <td>1.0</td>\n",
       "    </tr>\n",
       "    <tr>\n",
       "      <th>RevolvingUtilizationOfUnsecuredLines</th>\n",
       "      <td>120269.0</td>\n",
       "      <td>5.899873</td>\n",
       "      <td>257.040685</td>\n",
       "      <td>0.0</td>\n",
       "      <td>0.035084</td>\n",
       "      <td>0.177282</td>\n",
       "      <td>0.579428</td>\n",
       "      <td>50708.0</td>\n",
       "    </tr>\n",
       "    <tr>\n",
       "      <th>age</th>\n",
       "      <td>120269.0</td>\n",
       "      <td>51.289792</td>\n",
       "      <td>14.426684</td>\n",
       "      <td>0.0</td>\n",
       "      <td>40.000000</td>\n",
       "      <td>51.000000</td>\n",
       "      <td>61.000000</td>\n",
       "      <td>103.0</td>\n",
       "    </tr>\n",
       "    <tr>\n",
       "      <th>NumberOfTime30-59DaysPastDueNotWorse</th>\n",
       "      <td>120269.0</td>\n",
       "      <td>0.381769</td>\n",
       "      <td>3.499234</td>\n",
       "      <td>0.0</td>\n",
       "      <td>0.000000</td>\n",
       "      <td>0.000000</td>\n",
       "      <td>0.000000</td>\n",
       "      <td>98.0</td>\n",
       "    </tr>\n",
       "    <tr>\n",
       "      <th>DebtRatio</th>\n",
       "      <td>120269.0</td>\n",
       "      <td>26.598777</td>\n",
       "      <td>424.446457</td>\n",
       "      <td>0.0</td>\n",
       "      <td>0.143388</td>\n",
       "      <td>0.296023</td>\n",
       "      <td>0.482559</td>\n",
       "      <td>61106.5</td>\n",
       "    </tr>\n",
       "    <tr>\n",
       "      <th>MonthlyIncome</th>\n",
       "      <td>120269.0</td>\n",
       "      <td>6670.221237</td>\n",
       "      <td>14384.674215</td>\n",
       "      <td>0.0</td>\n",
       "      <td>3400.000000</td>\n",
       "      <td>5400.000000</td>\n",
       "      <td>8249.000000</td>\n",
       "      <td>3008750.0</td>\n",
       "    </tr>\n",
       "    <tr>\n",
       "      <th>NumberOfOpenCreditLinesAndLoans</th>\n",
       "      <td>120269.0</td>\n",
       "      <td>8.758475</td>\n",
       "      <td>5.172835</td>\n",
       "      <td>0.0</td>\n",
       "      <td>5.000000</td>\n",
       "      <td>8.000000</td>\n",
       "      <td>11.000000</td>\n",
       "      <td>58.0</td>\n",
       "    </tr>\n",
       "    <tr>\n",
       "      <th>NumberOfTimes90DaysLate</th>\n",
       "      <td>120269.0</td>\n",
       "      <td>0.211925</td>\n",
       "      <td>3.465276</td>\n",
       "      <td>0.0</td>\n",
       "      <td>0.000000</td>\n",
       "      <td>0.000000</td>\n",
       "      <td>0.000000</td>\n",
       "      <td>98.0</td>\n",
       "    </tr>\n",
       "    <tr>\n",
       "      <th>NumberRealEstateLoansOrLines</th>\n",
       "      <td>120269.0</td>\n",
       "      <td>1.054519</td>\n",
       "      <td>1.149273</td>\n",
       "      <td>0.0</td>\n",
       "      <td>0.000000</td>\n",
       "      <td>1.000000</td>\n",
       "      <td>2.000000</td>\n",
       "      <td>54.0</td>\n",
       "    </tr>\n",
       "    <tr>\n",
       "      <th>NumberOfTime60-89DaysPastDueNotWorse</th>\n",
       "      <td>120269.0</td>\n",
       "      <td>0.187829</td>\n",
       "      <td>3.447901</td>\n",
       "      <td>0.0</td>\n",
       "      <td>0.000000</td>\n",
       "      <td>0.000000</td>\n",
       "      <td>0.000000</td>\n",
       "      <td>98.0</td>\n",
       "    </tr>\n",
       "    <tr>\n",
       "      <th>NumberOfDependents</th>\n",
       "      <td>120269.0</td>\n",
       "      <td>0.851832</td>\n",
       "      <td>1.148391</td>\n",
       "      <td>0.0</td>\n",
       "      <td>0.000000</td>\n",
       "      <td>0.000000</td>\n",
       "      <td>2.000000</td>\n",
       "      <td>20.0</td>\n",
       "    </tr>\n",
       "  </tbody>\n",
       "</table>\n",
       "</div>"
      ],
      "text/plain": [
       "                                         count         mean           std  \\\n",
       "SeriousDlqin2yrs                      120269.0     0.069486      0.254280   \n",
       "RevolvingUtilizationOfUnsecuredLines  120269.0     5.899873    257.040685   \n",
       "age                                   120269.0    51.289792     14.426684   \n",
       "NumberOfTime30-59DaysPastDueNotWorse  120269.0     0.381769      3.499234   \n",
       "DebtRatio                             120269.0    26.598777    424.446457   \n",
       "MonthlyIncome                         120269.0  6670.221237  14384.674215   \n",
       "NumberOfOpenCreditLinesAndLoans       120269.0     8.758475      5.172835   \n",
       "NumberOfTimes90DaysLate               120269.0     0.211925      3.465276   \n",
       "NumberRealEstateLoansOrLines          120269.0     1.054519      1.149273   \n",
       "NumberOfTime60-89DaysPastDueNotWorse  120269.0     0.187829      3.447901   \n",
       "NumberOfDependents                    120269.0     0.851832      1.148391   \n",
       "\n",
       "                                      min          25%          50%  \\\n",
       "SeriousDlqin2yrs                      0.0     0.000000     0.000000   \n",
       "RevolvingUtilizationOfUnsecuredLines  0.0     0.035084     0.177282   \n",
       "age                                   0.0    40.000000    51.000000   \n",
       "NumberOfTime30-59DaysPastDueNotWorse  0.0     0.000000     0.000000   \n",
       "DebtRatio                             0.0     0.143388     0.296023   \n",
       "MonthlyIncome                         0.0  3400.000000  5400.000000   \n",
       "NumberOfOpenCreditLinesAndLoans       0.0     5.000000     8.000000   \n",
       "NumberOfTimes90DaysLate               0.0     0.000000     0.000000   \n",
       "NumberRealEstateLoansOrLines          0.0     0.000000     1.000000   \n",
       "NumberOfTime60-89DaysPastDueNotWorse  0.0     0.000000     0.000000   \n",
       "NumberOfDependents                    0.0     0.000000     0.000000   \n",
       "\n",
       "                                              75%        max  \n",
       "SeriousDlqin2yrs                         0.000000        1.0  \n",
       "RevolvingUtilizationOfUnsecuredLines     0.579428    50708.0  \n",
       "age                                     61.000000      103.0  \n",
       "NumberOfTime30-59DaysPastDueNotWorse     0.000000       98.0  \n",
       "DebtRatio                                0.482559    61106.5  \n",
       "MonthlyIncome                         8249.000000  3008750.0  \n",
       "NumberOfOpenCreditLinesAndLoans         11.000000       58.0  \n",
       "NumberOfTimes90DaysLate                  0.000000       98.0  \n",
       "NumberRealEstateLoansOrLines             2.000000       54.0  \n",
       "NumberOfTime60-89DaysPastDueNotWorse     0.000000       98.0  \n",
       "NumberOfDependents                       2.000000       20.0  "
      ]
     },
     "execution_count": 8,
     "metadata": {},
     "output_type": "execute_result"
    }
   ],
   "source": [
    "df.describe().T"
   ]
  },
  {
   "cell_type": "code",
   "execution_count": 9,
   "id": "97059156",
   "metadata": {
    "ExecuteTime": {
     "end_time": "2023-02-11T14:26:44.244995Z",
     "start_time": "2023-02-11T14:26:44.233862Z"
    }
   },
   "outputs": [],
   "source": [
    "dft = df.copy()"
   ]
  },
  {
   "cell_type": "code",
   "execution_count": 10,
   "id": "7798223e",
   "metadata": {
    "ExecuteTime": {
     "end_time": "2023-02-11T14:26:44.933480Z",
     "start_time": "2023-02-11T14:26:44.905079Z"
    }
   },
   "outputs": [
    {
     "data": {
      "text/html": [
       "<div>\n",
       "<style scoped>\n",
       "    .dataframe tbody tr th:only-of-type {\n",
       "        vertical-align: middle;\n",
       "    }\n",
       "\n",
       "    .dataframe tbody tr th {\n",
       "        vertical-align: top;\n",
       "    }\n",
       "\n",
       "    .dataframe thead th {\n",
       "        text-align: right;\n",
       "    }\n",
       "</style>\n",
       "<table border=\"1\" class=\"dataframe\">\n",
       "  <thead>\n",
       "    <tr style=\"text-align: right;\">\n",
       "      <th></th>\n",
       "      <th>SeriousDlqin2yrs</th>\n",
       "      <th>RevolvingUtilizationOfUnsecuredLines</th>\n",
       "      <th>age</th>\n",
       "      <th>NumberOfTime30-59DaysPastDueNotWorse</th>\n",
       "      <th>DebtRatio</th>\n",
       "      <th>MonthlyIncome</th>\n",
       "      <th>NumberOfOpenCreditLinesAndLoans</th>\n",
       "      <th>NumberOfTimes90DaysLate</th>\n",
       "      <th>NumberRealEstateLoansOrLines</th>\n",
       "      <th>NumberOfTime60-89DaysPastDueNotWorse</th>\n",
       "      <th>NumberOfDependents</th>\n",
       "    </tr>\n",
       "  </thead>\n",
       "  <tbody>\n",
       "    <tr>\n",
       "      <th>0</th>\n",
       "      <td>1</td>\n",
       "      <td>0.766127</td>\n",
       "      <td>45</td>\n",
       "      <td>2</td>\n",
       "      <td>0.802982</td>\n",
       "      <td>9120.0</td>\n",
       "      <td>13</td>\n",
       "      <td>0</td>\n",
       "      <td>6</td>\n",
       "      <td>0</td>\n",
       "      <td>2.0</td>\n",
       "    </tr>\n",
       "    <tr>\n",
       "      <th>1</th>\n",
       "      <td>0</td>\n",
       "      <td>0.957151</td>\n",
       "      <td>40</td>\n",
       "      <td>0</td>\n",
       "      <td>0.121876</td>\n",
       "      <td>2600.0</td>\n",
       "      <td>4</td>\n",
       "      <td>0</td>\n",
       "      <td>0</td>\n",
       "      <td>0</td>\n",
       "      <td>1.0</td>\n",
       "    </tr>\n",
       "    <tr>\n",
       "      <th>2</th>\n",
       "      <td>0</td>\n",
       "      <td>0.658180</td>\n",
       "      <td>38</td>\n",
       "      <td>1</td>\n",
       "      <td>0.085113</td>\n",
       "      <td>3042.0</td>\n",
       "      <td>2</td>\n",
       "      <td>1</td>\n",
       "      <td>0</td>\n",
       "      <td>0</td>\n",
       "      <td>0.0</td>\n",
       "    </tr>\n",
       "    <tr>\n",
       "      <th>3</th>\n",
       "      <td>0</td>\n",
       "      <td>0.233810</td>\n",
       "      <td>30</td>\n",
       "      <td>0</td>\n",
       "      <td>0.036050</td>\n",
       "      <td>3300.0</td>\n",
       "      <td>5</td>\n",
       "      <td>0</td>\n",
       "      <td>0</td>\n",
       "      <td>0</td>\n",
       "      <td>0.0</td>\n",
       "    </tr>\n",
       "    <tr>\n",
       "      <th>4</th>\n",
       "      <td>0</td>\n",
       "      <td>0.907239</td>\n",
       "      <td>49</td>\n",
       "      <td>1</td>\n",
       "      <td>0.024926</td>\n",
       "      <td>63588.0</td>\n",
       "      <td>7</td>\n",
       "      <td>0</td>\n",
       "      <td>1</td>\n",
       "      <td>0</td>\n",
       "      <td>0.0</td>\n",
       "    </tr>\n",
       "    <tr>\n",
       "      <th>...</th>\n",
       "      <td>...</td>\n",
       "      <td>...</td>\n",
       "      <td>...</td>\n",
       "      <td>...</td>\n",
       "      <td>...</td>\n",
       "      <td>...</td>\n",
       "      <td>...</td>\n",
       "      <td>...</td>\n",
       "      <td>...</td>\n",
       "      <td>...</td>\n",
       "      <td>...</td>\n",
       "    </tr>\n",
       "    <tr>\n",
       "      <th>120264</th>\n",
       "      <td>0</td>\n",
       "      <td>0.385742</td>\n",
       "      <td>50</td>\n",
       "      <td>0</td>\n",
       "      <td>0.404293</td>\n",
       "      <td>3400.0</td>\n",
       "      <td>7</td>\n",
       "      <td>0</td>\n",
       "      <td>0</td>\n",
       "      <td>0</td>\n",
       "      <td>0.0</td>\n",
       "    </tr>\n",
       "    <tr>\n",
       "      <th>120265</th>\n",
       "      <td>0</td>\n",
       "      <td>0.040674</td>\n",
       "      <td>74</td>\n",
       "      <td>0</td>\n",
       "      <td>0.225131</td>\n",
       "      <td>2100.0</td>\n",
       "      <td>4</td>\n",
       "      <td>0</td>\n",
       "      <td>1</td>\n",
       "      <td>0</td>\n",
       "      <td>0.0</td>\n",
       "    </tr>\n",
       "    <tr>\n",
       "      <th>120266</th>\n",
       "      <td>0</td>\n",
       "      <td>0.299745</td>\n",
       "      <td>44</td>\n",
       "      <td>0</td>\n",
       "      <td>0.716562</td>\n",
       "      <td>5584.0</td>\n",
       "      <td>4</td>\n",
       "      <td>0</td>\n",
       "      <td>1</td>\n",
       "      <td>0</td>\n",
       "      <td>2.0</td>\n",
       "    </tr>\n",
       "    <tr>\n",
       "      <th>120267</th>\n",
       "      <td>0</td>\n",
       "      <td>0.000000</td>\n",
       "      <td>30</td>\n",
       "      <td>0</td>\n",
       "      <td>0.000000</td>\n",
       "      <td>5716.0</td>\n",
       "      <td>4</td>\n",
       "      <td>0</td>\n",
       "      <td>0</td>\n",
       "      <td>0</td>\n",
       "      <td>0.0</td>\n",
       "    </tr>\n",
       "    <tr>\n",
       "      <th>120268</th>\n",
       "      <td>0</td>\n",
       "      <td>0.850283</td>\n",
       "      <td>64</td>\n",
       "      <td>0</td>\n",
       "      <td>0.249908</td>\n",
       "      <td>8158.0</td>\n",
       "      <td>8</td>\n",
       "      <td>0</td>\n",
       "      <td>2</td>\n",
       "      <td>0</td>\n",
       "      <td>0.0</td>\n",
       "    </tr>\n",
       "  </tbody>\n",
       "</table>\n",
       "<p>120269 rows × 11 columns</p>\n",
       "</div>"
      ],
      "text/plain": [
       "        SeriousDlqin2yrs  RevolvingUtilizationOfUnsecuredLines  age  \\\n",
       "0                      1                              0.766127   45   \n",
       "1                      0                              0.957151   40   \n",
       "2                      0                              0.658180   38   \n",
       "3                      0                              0.233810   30   \n",
       "4                      0                              0.907239   49   \n",
       "...                  ...                                   ...  ...   \n",
       "120264                 0                              0.385742   50   \n",
       "120265                 0                              0.040674   74   \n",
       "120266                 0                              0.299745   44   \n",
       "120267                 0                              0.000000   30   \n",
       "120268                 0                              0.850283   64   \n",
       "\n",
       "        NumberOfTime30-59DaysPastDueNotWorse  DebtRatio  MonthlyIncome  \\\n",
       "0                                          2   0.802982         9120.0   \n",
       "1                                          0   0.121876         2600.0   \n",
       "2                                          1   0.085113         3042.0   \n",
       "3                                          0   0.036050         3300.0   \n",
       "4                                          1   0.024926        63588.0   \n",
       "...                                      ...        ...            ...   \n",
       "120264                                     0   0.404293         3400.0   \n",
       "120265                                     0   0.225131         2100.0   \n",
       "120266                                     0   0.716562         5584.0   \n",
       "120267                                     0   0.000000         5716.0   \n",
       "120268                                     0   0.249908         8158.0   \n",
       "\n",
       "        NumberOfOpenCreditLinesAndLoans  NumberOfTimes90DaysLate  \\\n",
       "0                                    13                        0   \n",
       "1                                     4                        0   \n",
       "2                                     2                        1   \n",
       "3                                     5                        0   \n",
       "4                                     7                        0   \n",
       "...                                 ...                      ...   \n",
       "120264                                7                        0   \n",
       "120265                                4                        0   \n",
       "120266                                4                        0   \n",
       "120267                                4                        0   \n",
       "120268                                8                        0   \n",
       "\n",
       "        NumberRealEstateLoansOrLines  NumberOfTime60-89DaysPastDueNotWorse  \\\n",
       "0                                  6                                     0   \n",
       "1                                  0                                     0   \n",
       "2                                  0                                     0   \n",
       "3                                  0                                     0   \n",
       "4                                  1                                     0   \n",
       "...                              ...                                   ...   \n",
       "120264                             0                                     0   \n",
       "120265                             1                                     0   \n",
       "120266                             1                                     0   \n",
       "120267                             0                                     0   \n",
       "120268                             2                                     0   \n",
       "\n",
       "        NumberOfDependents  \n",
       "0                      2.0  \n",
       "1                      1.0  \n",
       "2                      0.0  \n",
       "3                      0.0  \n",
       "4                      0.0  \n",
       "...                    ...  \n",
       "120264                 0.0  \n",
       "120265                 0.0  \n",
       "120266                 2.0  \n",
       "120267                 0.0  \n",
       "120268                 0.0  \n",
       "\n",
       "[120269 rows x 11 columns]"
      ]
     },
     "execution_count": 10,
     "metadata": {},
     "output_type": "execute_result"
    }
   ],
   "source": [
    "dft"
   ]
  },
  {
   "cell_type": "code",
   "execution_count": 11,
   "id": "8ffda85c",
   "metadata": {
    "ExecuteTime": {
     "end_time": "2023-02-11T14:26:45.809314Z",
     "start_time": "2023-02-11T14:26:45.791135Z"
    }
   },
   "outputs": [],
   "source": [
    "dft[dft.columns[1]] = np.where(dft[dft.columns[1]] <= 1.0, dft[dft.columns[1]], np.nan)"
   ]
  },
  {
   "cell_type": "code",
   "execution_count": 12,
   "id": "2d3cb4a4",
   "metadata": {
    "ExecuteTime": {
     "end_time": "2023-02-11T14:26:46.465515Z",
     "start_time": "2023-02-11T14:26:46.448825Z"
    }
   },
   "outputs": [],
   "source": [
    "dft[dft.columns[2]]  = np.where(dft[dft.columns[2]] > 0, dft[dft.columns[2]], np.nan)"
   ]
  },
  {
   "cell_type": "code",
   "execution_count": 13,
   "id": "baf28c29",
   "metadata": {
    "ExecuteTime": {
     "end_time": "2023-02-11T14:26:46.961044Z",
     "start_time": "2023-02-11T14:26:46.939884Z"
    }
   },
   "outputs": [],
   "source": [
    "dft[dft.columns[4]] = np.where(dft[dft.columns[4]] <= 1, dft[dft.columns[4]], np.nan)"
   ]
  },
  {
   "cell_type": "code",
   "execution_count": 14,
   "id": "3e4f92af",
   "metadata": {
    "ExecuteTime": {
     "end_time": "2023-02-11T14:26:49.498512Z",
     "start_time": "2023-02-11T14:26:47.471658Z"
    }
   },
   "outputs": [
    {
     "data": {
      "text/plain": [
       "<AxesSubplot: >"
      ]
     },
     "execution_count": 14,
     "metadata": {},
     "output_type": "execute_result"
    },
    {
     "data": {
      "image/png": "[encoded data removed]",
      "text/plain": [
       "<Figure size 640x480 with 1 Axes>"
      ]
     },
     "metadata": {},
     "output_type": "display_data"
    }
   ],
   "source": [
    "dft[dft.columns[10]].plot(kind = 'box')"
   ]
  },
  {
   "cell_type": "markdown",
   "id": "a3216f19",
   "metadata": {},
   "source": [
    "## 이상치 처리 - IQR사용 "
   ]
  },
  {
   "cell_type": "code",
   "execution_count": 15,
   "id": "3c6766e8",
   "metadata": {
    "ExecuteTime": {
     "end_time": "2023-02-11T14:26:50.849266Z",
     "start_time": "2023-02-11T14:26:50.819596Z"
    }
   },
   "outputs": [
    {
     "data": {
      "text/plain": [
       "SeriousDlqin2yrs                           0\n",
       "RevolvingUtilizationOfUnsecuredLines    2773\n",
       "age                                        1\n",
       "NumberOfTime30-59DaysPastDueNotWorse       0\n",
       "DebtRatio                               7233\n",
       "MonthlyIncome                              0\n",
       "NumberOfOpenCreditLinesAndLoans            0\n",
       "NumberOfTimes90DaysLate                    0\n",
       "NumberRealEstateLoansOrLines               0\n",
       "NumberOfTime60-89DaysPastDueNotWorse       0\n",
       "NumberOfDependents                         0\n",
       "dtype: int64"
      ]
     },
     "execution_count": 15,
     "metadata": {},
     "output_type": "execute_result"
    }
   ],
   "source": [
    "df2 = dft.copy()\n",
    "df2.isnull().sum()"
   ]
  },
  {
   "cell_type": "code",
   "execution_count": 16,
   "id": "1cb66ce5",
   "metadata": {
    "ExecuteTime": {
     "end_time": "2023-02-11T14:26:51.615658Z",
     "start_time": "2023-02-11T14:26:51.548133Z"
    }
   },
   "outputs": [],
   "source": [
    "iqr_list = [5, 6, 8]\n",
    "\n",
    "q1 = df2[df2.columns[iqr_list]].quantile(0.25)\n",
    "q3 = df2[df2.columns[iqr_list]].quantile(0.75)\n",
    "iqr = q3 - q1\n",
    "\n",
    "df2[df2.columns[iqr_list]] = np.where((df2[df2.columns[iqr_list]] >= q1 - iqr * 1.5) & (df2[df2.columns[iqr_list]] <= q3 + iqr * 1.5), df2[df2.columns[iqr_list]], np.nan)"
   ]
  },
  {
   "cell_type": "code",
   "execution_count": 20,
   "id": "f6973427",
   "metadata": {
    "ExecuteTime": {
     "end_time": "2023-02-11T14:27:01.812300Z",
     "start_time": "2023-02-11T14:27:01.800597Z"
    }
   },
   "outputs": [
    {
     "data": {
      "text/plain": [
       "MonthlyIncome                      15520.0\n",
       "NumberOfOpenCreditLinesAndLoans       20.0\n",
       "NumberRealEstateLoansOrLines           5.0\n",
       "dtype: float64"
      ]
     },
     "execution_count": 20,
     "metadata": {},
     "output_type": "execute_result"
    }
   ],
   "source": [
    "df2[df2.columns[iqr_list]].max()"
   ]
  },
  {
   "cell_type": "markdown",
   "id": "f6e4454f",
   "metadata": {},
   "source": [
    "### 이상치 처리 후 결측치 제거"
   ]
  },
  {
   "cell_type": "code",
   "execution_count": 17,
   "id": "0c68af0d",
   "metadata": {
    "ExecuteTime": {
     "end_time": "2023-02-11T14:26:55.880959Z",
     "start_time": "2023-02-11T14:26:55.858467Z"
    }
   },
   "outputs": [
    {
     "data": {
      "text/plain": [
       "SeriousDlqin2yrs                           0\n",
       "RevolvingUtilizationOfUnsecuredLines    2773\n",
       "age                                        1\n",
       "NumberOfTime30-59DaysPastDueNotWorse       0\n",
       "DebtRatio                               7233\n",
       "MonthlyIncome                           4879\n",
       "NumberOfOpenCreditLinesAndLoans         3472\n",
       "NumberOfTimes90DaysLate                    0\n",
       "NumberRealEstateLoansOrLines             680\n",
       "NumberOfTime60-89DaysPastDueNotWorse       0\n",
       "NumberOfDependents                         0\n",
       "dtype: int64"
      ]
     },
     "execution_count": 17,
     "metadata": {},
     "output_type": "execute_result"
    }
   ],
   "source": [
    "df2.isnull().sum()"
   ]
  },
  {
   "cell_type": "code",
   "execution_count": 18,
   "id": "31ab9e06",
   "metadata": {
    "ExecuteTime": {
     "end_time": "2023-02-11T14:26:57.070935Z",
     "start_time": "2023-02-11T14:26:57.038777Z"
    }
   },
   "outputs": [],
   "source": [
    "df3 = df2.dropna()"
   ]
  },
  {
   "cell_type": "code",
   "execution_count": 19,
   "id": "57666480",
   "metadata": {
    "ExecuteTime": {
     "end_time": "2023-02-11T14:26:57.947831Z",
     "start_time": "2023-02-11T14:26:57.934204Z"
    }
   },
   "outputs": [
    {
     "data": {
      "text/plain": [
       "SeriousDlqin2yrs                        0\n",
       "RevolvingUtilizationOfUnsecuredLines    0\n",
       "age                                     0\n",
       "NumberOfTime30-59DaysPastDueNotWorse    0\n",
       "DebtRatio                               0\n",
       "MonthlyIncome                           0\n",
       "NumberOfOpenCreditLinesAndLoans         0\n",
       "NumberOfTimes90DaysLate                 0\n",
       "NumberRealEstateLoansOrLines            0\n",
       "NumberOfTime60-89DaysPastDueNotWorse    0\n",
       "NumberOfDependents                      0\n",
       "dtype: int64"
      ]
     },
     "execution_count": 19,
     "metadata": {},
     "output_type": "execute_result"
    }
   ],
   "source": [
    "df3.isnull().sum()"
   ]
  },
  {
   "cell_type": "code",
   "execution_count": 21,
   "id": "a951a04f",
   "metadata": {
    "ExecuteTime": {
     "end_time": "2023-02-11T14:27:08.779735Z",
     "start_time": "2023-02-11T14:27:07.730024Z"
    }
   },
   "outputs": [
    {
     "data": {
      "text/plain": [
       "<AxesSubplot: >"
      ]
     },
     "execution_count": 21,
     "metadata": {},
     "output_type": "execute_result"
    },
    {
     "data": {
      "image/png": "[encoded data removed]",
      "text/plain": [
       "<Figure size 640x480 with 1 Axes>"
      ]
     },
     "metadata": {},
     "output_type": "display_data"
    }
   ],
   "source": [
    "df3.plot(kind = 'box')"
   ]
  },
  {
   "cell_type": "code",
   "execution_count": 22,
   "id": "1ab04f46",
   "metadata": {
    "ExecuteTime": {
     "end_time": "2023-02-11T14:27:10.594658Z",
     "start_time": "2023-02-11T14:27:09.647873Z"
    }
   },
   "outputs": [
    {
     "data": {
      "text/plain": [
       "<AxesSubplot: >"
      ]
     },
     "execution_count": 22,
     "metadata": {},
     "output_type": "execute_result"
    },
    {
     "data": {
      "image/png": "[encoded data removed]",
      "text/plain": [
       "<Figure size 640x480 with 1 Axes>"
      ]
     },
     "metadata": {},
     "output_type": "display_data"
    }
   ],
   "source": [
    "df3.drop(columns = 'MonthlyIncome').plot(kind = 'box')"
   ]
  },
  {
   "cell_type": "code",
   "execution_count": 23,
   "id": "a5e57769",
   "metadata": {
    "ExecuteTime": {
     "end_time": "2023-02-11T14:27:11.262329Z",
     "start_time": "2023-02-11T14:27:11.223126Z"
    }
   },
   "outputs": [
    {
     "data": {
      "text/html": [
       "<div>\n",
       "<style scoped>\n",
       "    .dataframe tbody tr th:only-of-type {\n",
       "        vertical-align: middle;\n",
       "    }\n",
       "\n",
       "    .dataframe tbody tr th {\n",
       "        vertical-align: top;\n",
       "    }\n",
       "\n",
       "    .dataframe thead th {\n",
       "        text-align: right;\n",
       "    }\n",
       "</style>\n",
       "<table border=\"1\" class=\"dataframe\">\n",
       "  <thead>\n",
       "    <tr style=\"text-align: right;\">\n",
       "      <th></th>\n",
       "      <th>SeriousDlqin2yrs</th>\n",
       "      <th>RevolvingUtilizationOfUnsecuredLines</th>\n",
       "      <th>age</th>\n",
       "      <th>NumberOfTime30-59DaysPastDueNotWorse</th>\n",
       "      <th>DebtRatio</th>\n",
       "      <th>MonthlyIncome</th>\n",
       "      <th>NumberOfOpenCreditLinesAndLoans</th>\n",
       "      <th>NumberOfTimes90DaysLate</th>\n",
       "      <th>NumberRealEstateLoansOrLines</th>\n",
       "      <th>NumberOfTime60-89DaysPastDueNotWorse</th>\n",
       "      <th>NumberOfDependents</th>\n",
       "    </tr>\n",
       "  </thead>\n",
       "  <tbody>\n",
       "    <tr>\n",
       "      <th>1</th>\n",
       "      <td>0</td>\n",
       "      <td>0.957151</td>\n",
       "      <td>40.0</td>\n",
       "      <td>0</td>\n",
       "      <td>0.121876</td>\n",
       "      <td>2600.0</td>\n",
       "      <td>4.0</td>\n",
       "      <td>0</td>\n",
       "      <td>0.0</td>\n",
       "      <td>0</td>\n",
       "      <td>1.0</td>\n",
       "    </tr>\n",
       "    <tr>\n",
       "      <th>2</th>\n",
       "      <td>0</td>\n",
       "      <td>0.658180</td>\n",
       "      <td>38.0</td>\n",
       "      <td>1</td>\n",
       "      <td>0.085113</td>\n",
       "      <td>3042.0</td>\n",
       "      <td>2.0</td>\n",
       "      <td>1</td>\n",
       "      <td>0.0</td>\n",
       "      <td>0</td>\n",
       "      <td>0.0</td>\n",
       "    </tr>\n",
       "    <tr>\n",
       "      <th>3</th>\n",
       "      <td>0</td>\n",
       "      <td>0.233810</td>\n",
       "      <td>30.0</td>\n",
       "      <td>0</td>\n",
       "      <td>0.036050</td>\n",
       "      <td>3300.0</td>\n",
       "      <td>5.0</td>\n",
       "      <td>0</td>\n",
       "      <td>0.0</td>\n",
       "      <td>0</td>\n",
       "      <td>0.0</td>\n",
       "    </tr>\n",
       "    <tr>\n",
       "      <th>5</th>\n",
       "      <td>0</td>\n",
       "      <td>0.213179</td>\n",
       "      <td>74.0</td>\n",
       "      <td>0</td>\n",
       "      <td>0.375607</td>\n",
       "      <td>3500.0</td>\n",
       "      <td>3.0</td>\n",
       "      <td>0</td>\n",
       "      <td>1.0</td>\n",
       "      <td>0</td>\n",
       "      <td>1.0</td>\n",
       "    </tr>\n",
       "    <tr>\n",
       "      <th>6</th>\n",
       "      <td>0</td>\n",
       "      <td>0.754464</td>\n",
       "      <td>39.0</td>\n",
       "      <td>0</td>\n",
       "      <td>0.209940</td>\n",
       "      <td>3500.0</td>\n",
       "      <td>8.0</td>\n",
       "      <td>0</td>\n",
       "      <td>0.0</td>\n",
       "      <td>0</td>\n",
       "      <td>0.0</td>\n",
       "    </tr>\n",
       "    <tr>\n",
       "      <th>...</th>\n",
       "      <td>...</td>\n",
       "      <td>...</td>\n",
       "      <td>...</td>\n",
       "      <td>...</td>\n",
       "      <td>...</td>\n",
       "      <td>...</td>\n",
       "      <td>...</td>\n",
       "      <td>...</td>\n",
       "      <td>...</td>\n",
       "      <td>...</td>\n",
       "      <td>...</td>\n",
       "    </tr>\n",
       "    <tr>\n",
       "      <th>120264</th>\n",
       "      <td>0</td>\n",
       "      <td>0.385742</td>\n",
       "      <td>50.0</td>\n",
       "      <td>0</td>\n",
       "      <td>0.404293</td>\n",
       "      <td>3400.0</td>\n",
       "      <td>7.0</td>\n",
       "      <td>0</td>\n",
       "      <td>0.0</td>\n",
       "      <td>0</td>\n",
       "      <td>0.0</td>\n",
       "    </tr>\n",
       "    <tr>\n",
       "      <th>120265</th>\n",
       "      <td>0</td>\n",
       "      <td>0.040674</td>\n",
       "      <td>74.0</td>\n",
       "      <td>0</td>\n",
       "      <td>0.225131</td>\n",
       "      <td>2100.0</td>\n",
       "      <td>4.0</td>\n",
       "      <td>0</td>\n",
       "      <td>1.0</td>\n",
       "      <td>0</td>\n",
       "      <td>0.0</td>\n",
       "    </tr>\n",
       "    <tr>\n",
       "      <th>120266</th>\n",
       "      <td>0</td>\n",
       "      <td>0.299745</td>\n",
       "      <td>44.0</td>\n",
       "      <td>0</td>\n",
       "      <td>0.716562</td>\n",
       "      <td>5584.0</td>\n",
       "      <td>4.0</td>\n",
       "      <td>0</td>\n",
       "      <td>1.0</td>\n",
       "      <td>0</td>\n",
       "      <td>2.0</td>\n",
       "    </tr>\n",
       "    <tr>\n",
       "      <th>120267</th>\n",
       "      <td>0</td>\n",
       "      <td>0.000000</td>\n",
       "      <td>30.0</td>\n",
       "      <td>0</td>\n",
       "      <td>0.000000</td>\n",
       "      <td>5716.0</td>\n",
       "      <td>4.0</td>\n",
       "      <td>0</td>\n",
       "      <td>0.0</td>\n",
       "      <td>0</td>\n",
       "      <td>0.0</td>\n",
       "    </tr>\n",
       "    <tr>\n",
       "      <th>120268</th>\n",
       "      <td>0</td>\n",
       "      <td>0.850283</td>\n",
       "      <td>64.0</td>\n",
       "      <td>0</td>\n",
       "      <td>0.249908</td>\n",
       "      <td>8158.0</td>\n",
       "      <td>8.0</td>\n",
       "      <td>0</td>\n",
       "      <td>2.0</td>\n",
       "      <td>0</td>\n",
       "      <td>0.0</td>\n",
       "    </tr>\n",
       "  </tbody>\n",
       "</table>\n",
       "<p>102766 rows × 11 columns</p>\n",
       "</div>"
      ],
      "text/plain": [
       "        SeriousDlqin2yrs  RevolvingUtilizationOfUnsecuredLines   age  \\\n",
       "1                      0                              0.957151  40.0   \n",
       "2                      0                              0.658180  38.0   \n",
       "3                      0                              0.233810  30.0   \n",
       "5                      0                              0.213179  74.0   \n",
       "6                      0                              0.754464  39.0   \n",
       "...                  ...                                   ...   ...   \n",
       "120264                 0                              0.385742  50.0   \n",
       "120265                 0                              0.040674  74.0   \n",
       "120266                 0                              0.299745  44.0   \n",
       "120267                 0                              0.000000  30.0   \n",
       "120268                 0                              0.850283  64.0   \n",
       "\n",
       "        NumberOfTime30-59DaysPastDueNotWorse  DebtRatio  MonthlyIncome  \\\n",
       "1                                          0   0.121876         2600.0   \n",
       "2                                          1   0.085113         3042.0   \n",
       "3                                          0   0.036050         3300.0   \n",
       "5                                          0   0.375607         3500.0   \n",
       "6                                          0   0.209940         3500.0   \n",
       "...                                      ...        ...            ...   \n",
       "120264                                     0   0.404293         3400.0   \n",
       "120265                                     0   0.225131         2100.0   \n",
       "120266                                     0   0.716562         5584.0   \n",
       "120267                                     0   0.000000         5716.0   \n",
       "120268                                     0   0.249908         8158.0   \n",
       "\n",
       "        NumberOfOpenCreditLinesAndLoans  NumberOfTimes90DaysLate  \\\n",
       "1                                   4.0                        0   \n",
       "2                                   2.0                        1   \n",
       "3                                   5.0                        0   \n",
       "5                                   3.0                        0   \n",
       "6                                   8.0                        0   \n",
       "...                                 ...                      ...   \n",
       "120264                              7.0                        0   \n",
       "120265                              4.0                        0   \n",
       "120266                              4.0                        0   \n",
       "120267                              4.0                        0   \n",
       "120268                              8.0                        0   \n",
       "\n",
       "        NumberRealEstateLoansOrLines  NumberOfTime60-89DaysPastDueNotWorse  \\\n",
       "1                                0.0                                     0   \n",
       "2                                0.0                                     0   \n",
       "3                                0.0                                     0   \n",
       "5                                1.0                                     0   \n",
       "6                                0.0                                     0   \n",
       "...                              ...                                   ...   \n",
       "120264                           0.0                                     0   \n",
       "120265                           1.0                                     0   \n",
       "120266                           1.0                                     0   \n",
       "120267                           0.0                                     0   \n",
       "120268                           2.0                                     0   \n",
       "\n",
       "        NumberOfDependents  \n",
       "1                      1.0  \n",
       "2                      0.0  \n",
       "3                      0.0  \n",
       "5                      1.0  \n",
       "6                      0.0  \n",
       "...                    ...  \n",
       "120264                 0.0  \n",
       "120265                 0.0  \n",
       "120266                 2.0  \n",
       "120267                 0.0  \n",
       "120268                 0.0  \n",
       "\n",
       "[102766 rows x 11 columns]"
      ]
     },
     "execution_count": 23,
     "metadata": {},
     "output_type": "execute_result"
    }
   ],
   "source": [
    "df3"
   ]
  },
  {
   "cell_type": "code",
   "execution_count": 24,
   "id": "3cbde70f",
   "metadata": {
    "ExecuteTime": {
     "end_time": "2023-02-11T14:27:15.149279Z",
     "start_time": "2023-02-11T14:27:15.104532Z"
    }
   },
   "outputs": [
    {
     "data": {
      "text/html": [
       "<div>\n",
       "<style scoped>\n",
       "    .dataframe tbody tr th:only-of-type {\n",
       "        vertical-align: middle;\n",
       "    }\n",
       "\n",
       "    .dataframe tbody tr th {\n",
       "        vertical-align: top;\n",
       "    }\n",
       "\n",
       "    .dataframe thead th {\n",
       "        text-align: right;\n",
       "    }\n",
       "</style>\n",
       "<table border=\"1\" class=\"dataframe\">\n",
       "  <thead>\n",
       "    <tr style=\"text-align: right;\">\n",
       "      <th></th>\n",
       "      <th>SeriousDlqin2yrs</th>\n",
       "      <th>RevolvingUtilizationOfUnsecuredLines</th>\n",
       "      <th>age</th>\n",
       "      <th>NumberOfTime30-59DaysPastDueNotWorse</th>\n",
       "      <th>DebtRatio</th>\n",
       "      <th>MonthlyIncome</th>\n",
       "      <th>NumberOfOpenCreditLinesAndLoans</th>\n",
       "      <th>NumberOfTimes90DaysLate</th>\n",
       "      <th>NumberRealEstateLoansOrLines</th>\n",
       "      <th>NumberOfTime60-89DaysPastDueNotWorse</th>\n",
       "      <th>NumberOfDependents</th>\n",
       "    </tr>\n",
       "  </thead>\n",
       "  <tbody>\n",
       "    <tr>\n",
       "      <th>1402</th>\n",
       "      <td>1</td>\n",
       "      <td>1.0</td>\n",
       "      <td>27.0</td>\n",
       "      <td>98</td>\n",
       "      <td>0.000000</td>\n",
       "      <td>2700.0</td>\n",
       "      <td>0.0</td>\n",
       "      <td>98</td>\n",
       "      <td>0.0</td>\n",
       "      <td>98</td>\n",
       "      <td>0.0</td>\n",
       "    </tr>\n",
       "    <tr>\n",
       "      <th>3550</th>\n",
       "      <td>0</td>\n",
       "      <td>1.0</td>\n",
       "      <td>21.0</td>\n",
       "      <td>98</td>\n",
       "      <td>0.000000</td>\n",
       "      <td>0.0</td>\n",
       "      <td>0.0</td>\n",
       "      <td>98</td>\n",
       "      <td>0.0</td>\n",
       "      <td>98</td>\n",
       "      <td>0.0</td>\n",
       "    </tr>\n",
       "    <tr>\n",
       "      <th>3785</th>\n",
       "      <td>0</td>\n",
       "      <td>1.0</td>\n",
       "      <td>21.0</td>\n",
       "      <td>98</td>\n",
       "      <td>0.000000</td>\n",
       "      <td>2000.0</td>\n",
       "      <td>0.0</td>\n",
       "      <td>98</td>\n",
       "      <td>0.0</td>\n",
       "      <td>98</td>\n",
       "      <td>0.0</td>\n",
       "    </tr>\n",
       "    <tr>\n",
       "      <th>4086</th>\n",
       "      <td>0</td>\n",
       "      <td>1.0</td>\n",
       "      <td>33.0</td>\n",
       "      <td>98</td>\n",
       "      <td>0.000000</td>\n",
       "      <td>1500.0</td>\n",
       "      <td>0.0</td>\n",
       "      <td>98</td>\n",
       "      <td>0.0</td>\n",
       "      <td>98</td>\n",
       "      <td>0.0</td>\n",
       "    </tr>\n",
       "    <tr>\n",
       "      <th>5058</th>\n",
       "      <td>1</td>\n",
       "      <td>1.0</td>\n",
       "      <td>51.0</td>\n",
       "      <td>98</td>\n",
       "      <td>0.000000</td>\n",
       "      <td>7500.0</td>\n",
       "      <td>0.0</td>\n",
       "      <td>98</td>\n",
       "      <td>0.0</td>\n",
       "      <td>98</td>\n",
       "      <td>0.0</td>\n",
       "    </tr>\n",
       "    <tr>\n",
       "      <th>...</th>\n",
       "      <td>...</td>\n",
       "      <td>...</td>\n",
       "      <td>...</td>\n",
       "      <td>...</td>\n",
       "      <td>...</td>\n",
       "      <td>...</td>\n",
       "      <td>...</td>\n",
       "      <td>...</td>\n",
       "      <td>...</td>\n",
       "      <td>...</td>\n",
       "      <td>...</td>\n",
       "    </tr>\n",
       "    <tr>\n",
       "      <th>115663</th>\n",
       "      <td>1</td>\n",
       "      <td>1.0</td>\n",
       "      <td>31.0</td>\n",
       "      <td>98</td>\n",
       "      <td>0.000000</td>\n",
       "      <td>2200.0</td>\n",
       "      <td>0.0</td>\n",
       "      <td>98</td>\n",
       "      <td>0.0</td>\n",
       "      <td>98</td>\n",
       "      <td>3.0</td>\n",
       "    </tr>\n",
       "    <tr>\n",
       "      <th>115943</th>\n",
       "      <td>1</td>\n",
       "      <td>1.0</td>\n",
       "      <td>60.0</td>\n",
       "      <td>98</td>\n",
       "      <td>0.000000</td>\n",
       "      <td>1375.0</td>\n",
       "      <td>0.0</td>\n",
       "      <td>98</td>\n",
       "      <td>0.0</td>\n",
       "      <td>98</td>\n",
       "      <td>0.0</td>\n",
       "    </tr>\n",
       "    <tr>\n",
       "      <th>117267</th>\n",
       "      <td>1</td>\n",
       "      <td>1.0</td>\n",
       "      <td>28.0</td>\n",
       "      <td>98</td>\n",
       "      <td>0.000000</td>\n",
       "      <td>1664.0</td>\n",
       "      <td>0.0</td>\n",
       "      <td>98</td>\n",
       "      <td>0.0</td>\n",
       "      <td>98</td>\n",
       "      <td>0.0</td>\n",
       "    </tr>\n",
       "    <tr>\n",
       "      <th>117965</th>\n",
       "      <td>1</td>\n",
       "      <td>1.0</td>\n",
       "      <td>37.0</td>\n",
       "      <td>98</td>\n",
       "      <td>0.007578</td>\n",
       "      <td>3166.0</td>\n",
       "      <td>0.0</td>\n",
       "      <td>98</td>\n",
       "      <td>0.0</td>\n",
       "      <td>98</td>\n",
       "      <td>0.0</td>\n",
       "    </tr>\n",
       "    <tr>\n",
       "      <th>119667</th>\n",
       "      <td>0</td>\n",
       "      <td>1.0</td>\n",
       "      <td>26.0</td>\n",
       "      <td>98</td>\n",
       "      <td>0.000000</td>\n",
       "      <td>2000.0</td>\n",
       "      <td>0.0</td>\n",
       "      <td>98</td>\n",
       "      <td>0.0</td>\n",
       "      <td>98</td>\n",
       "      <td>0.0</td>\n",
       "    </tr>\n",
       "  </tbody>\n",
       "</table>\n",
       "<p>143 rows × 11 columns</p>\n",
       "</div>"
      ],
      "text/plain": [
       "        SeriousDlqin2yrs  RevolvingUtilizationOfUnsecuredLines   age  \\\n",
       "1402                   1                                   1.0  27.0   \n",
       "3550                   0                                   1.0  21.0   \n",
       "3785                   0                                   1.0  21.0   \n",
       "4086                   0                                   1.0  33.0   \n",
       "5058                   1                                   1.0  51.0   \n",
       "...                  ...                                   ...   ...   \n",
       "115663                 1                                   1.0  31.0   \n",
       "115943                 1                                   1.0  60.0   \n",
       "117267                 1                                   1.0  28.0   \n",
       "117965                 1                                   1.0  37.0   \n",
       "119667                 0                                   1.0  26.0   \n",
       "\n",
       "        NumberOfTime30-59DaysPastDueNotWorse  DebtRatio  MonthlyIncome  \\\n",
       "1402                                      98   0.000000         2700.0   \n",
       "3550                                      98   0.000000            0.0   \n",
       "3785                                      98   0.000000         2000.0   \n",
       "4086                                      98   0.000000         1500.0   \n",
       "5058                                      98   0.000000         7500.0   \n",
       "...                                      ...        ...            ...   \n",
       "115663                                    98   0.000000         2200.0   \n",
       "115943                                    98   0.000000         1375.0   \n",
       "117267                                    98   0.000000         1664.0   \n",
       "117965                                    98   0.007578         3166.0   \n",
       "119667                                    98   0.000000         2000.0   \n",
       "\n",
       "        NumberOfOpenCreditLinesAndLoans  NumberOfTimes90DaysLate  \\\n",
       "1402                                0.0                       98   \n",
       "3550                                0.0                       98   \n",
       "3785                                0.0                       98   \n",
       "4086                                0.0                       98   \n",
       "5058                                0.0                       98   \n",
       "...                                 ...                      ...   \n",
       "115663                              0.0                       98   \n",
       "115943                              0.0                       98   \n",
       "117267                              0.0                       98   \n",
       "117965                              0.0                       98   \n",
       "119667                              0.0                       98   \n",
       "\n",
       "        NumberRealEstateLoansOrLines  NumberOfTime60-89DaysPastDueNotWorse  \\\n",
       "1402                             0.0                                    98   \n",
       "3550                             0.0                                    98   \n",
       "3785                             0.0                                    98   \n",
       "4086                             0.0                                    98   \n",
       "5058                             0.0                                    98   \n",
       "...                              ...                                   ...   \n",
       "115663                           0.0                                    98   \n",
       "115943                           0.0                                    98   \n",
       "117267                           0.0                                    98   \n",
       "117965                           0.0                                    98   \n",
       "119667                           0.0                                    98   \n",
       "\n",
       "        NumberOfDependents  \n",
       "1402                   0.0  \n",
       "3550                   0.0  \n",
       "3785                   0.0  \n",
       "4086                   0.0  \n",
       "5058                   0.0  \n",
       "...                    ...  \n",
       "115663                 3.0  \n",
       "115943                 0.0  \n",
       "117267                 0.0  \n",
       "117965                 0.0  \n",
       "119667                 0.0  \n",
       "\n",
       "[143 rows x 11 columns]"
      ]
     },
     "execution_count": 24,
     "metadata": {},
     "output_type": "execute_result"
    }
   ],
   "source": [
    "a = np.where(df3[df3.columns[9]] == 98)\n",
    "df3.iloc[a]"
   ]
  },
  {
   "cell_type": "markdown",
   "id": "6c1e338f",
   "metadata": {},
   "source": [
    "### 이상치의 이상치 처리"
   ]
  },
  {
   "cell_type": "code",
   "execution_count": 30,
   "id": "a098d27b",
   "metadata": {
    "ExecuteTime": {
     "end_time": "2023-02-11T14:19:21.899645Z",
     "start_time": "2023-02-11T14:19:21.894825Z"
    }
   },
   "outputs": [],
   "source": [
    "# 하나의 연체가 96, 98이면 다른 연체횟수도 98 -> 실제 횟수가 아닌 다른 표시인듯 -> 제거 필요"
   ]
  },
  {
   "cell_type": "code",
   "execution_count": 25,
   "id": "5ea49dca",
   "metadata": {
    "ExecuteTime": {
     "end_time": "2023-02-11T14:27:18.111475Z",
     "start_time": "2023-02-11T14:27:18.098128Z"
    }
   },
   "outputs": [],
   "source": [
    "df4 = df3.copy()"
   ]
  },
  {
   "cell_type": "code",
   "execution_count": 26,
   "id": "67242a11",
   "metadata": {
    "ExecuteTime": {
     "end_time": "2023-02-11T14:27:19.629583Z",
     "start_time": "2023-02-11T14:27:19.609662Z"
    }
   },
   "outputs": [
    {
     "data": {
      "text/plain": [
       "0     97397\n",
       "1      3521\n",
       "2       959\n",
       "3       408\n",
       "4       177\n",
       "98      143\n",
       "5        70\n",
       "6        40\n",
       "7        15\n",
       "9        11\n",
       "8        10\n",
       "96        4\n",
       "10        3\n",
       "11        2\n",
       "13        2\n",
       "15        1\n",
       "14        1\n",
       "17        1\n",
       "12        1\n",
       "Name: NumberOfTimes90DaysLate, dtype: int64"
      ]
     },
     "execution_count": 26,
     "metadata": {},
     "output_type": "execute_result"
    }
   ],
   "source": [
    "df4['NumberOfTimes90DaysLate'].value_counts()"
   ]
  },
  {
   "cell_type": "code",
   "execution_count": 27,
   "id": "f642cf0f",
   "metadata": {
    "ExecuteTime": {
     "end_time": "2023-02-11T14:27:21.061043Z",
     "start_time": "2023-02-11T14:27:21.042855Z"
    }
   },
   "outputs": [],
   "source": [
    "df4 = df4.query('NumberOfTimes90DaysLate != 96')"
   ]
  },
  {
   "cell_type": "code",
   "execution_count": 28,
   "id": "cd70783a",
   "metadata": {
    "ExecuteTime": {
     "end_time": "2023-02-11T14:27:22.290644Z",
     "start_time": "2023-02-11T14:27:22.269509Z"
    }
   },
   "outputs": [],
   "source": [
    "df4 = df4.query('NumberOfTimes90DaysLate != 98')"
   ]
  },
  {
   "cell_type": "code",
   "execution_count": 29,
   "id": "4b1ce287",
   "metadata": {
    "ExecuteTime": {
     "end_time": "2023-02-11T14:27:23.961027Z",
     "start_time": "2023-02-11T14:27:23.828858Z"
    }
   },
   "outputs": [
    {
     "data": {
      "text/html": [
       "<div>\n",
       "<style scoped>\n",
       "    .dataframe tbody tr th:only-of-type {\n",
       "        vertical-align: middle;\n",
       "    }\n",
       "\n",
       "    .dataframe tbody tr th {\n",
       "        vertical-align: top;\n",
       "    }\n",
       "\n",
       "    .dataframe thead th {\n",
       "        text-align: right;\n",
       "    }\n",
       "</style>\n",
       "<table border=\"1\" class=\"dataframe\">\n",
       "  <thead>\n",
       "    <tr style=\"text-align: right;\">\n",
       "      <th></th>\n",
       "      <th>count</th>\n",
       "      <th>mean</th>\n",
       "      <th>std</th>\n",
       "      <th>min</th>\n",
       "      <th>25%</th>\n",
       "      <th>50%</th>\n",
       "      <th>75%</th>\n",
       "      <th>max</th>\n",
       "    </tr>\n",
       "  </thead>\n",
       "  <tbody>\n",
       "    <tr>\n",
       "      <th>SeriousDlqin2yrs</th>\n",
       "      <td>102619.0</td>\n",
       "      <td>0.060301</td>\n",
       "      <td>0.238044</td>\n",
       "      <td>0.0</td>\n",
       "      <td>0.000000</td>\n",
       "      <td>0.000000</td>\n",
       "      <td>0.000000</td>\n",
       "      <td>1.0</td>\n",
       "    </tr>\n",
       "    <tr>\n",
       "      <th>RevolvingUtilizationOfUnsecuredLines</th>\n",
       "      <td>102619.0</td>\n",
       "      <td>0.313990</td>\n",
       "      <td>0.337699</td>\n",
       "      <td>0.0</td>\n",
       "      <td>0.032012</td>\n",
       "      <td>0.162375</td>\n",
       "      <td>0.540918</td>\n",
       "      <td>1.0</td>\n",
       "    </tr>\n",
       "    <tr>\n",
       "      <th>age</th>\n",
       "      <td>102619.0</td>\n",
       "      <td>51.270583</td>\n",
       "      <td>14.645882</td>\n",
       "      <td>21.0</td>\n",
       "      <td>40.000000</td>\n",
       "      <td>50.000000</td>\n",
       "      <td>62.000000</td>\n",
       "      <td>103.0</td>\n",
       "    </tr>\n",
       "    <tr>\n",
       "      <th>NumberOfTime30-59DaysPastDueNotWorse</th>\n",
       "      <td>102619.0</td>\n",
       "      <td>0.236028</td>\n",
       "      <td>0.668551</td>\n",
       "      <td>0.0</td>\n",
       "      <td>0.000000</td>\n",
       "      <td>0.000000</td>\n",
       "      <td>0.000000</td>\n",
       "      <td>13.0</td>\n",
       "    </tr>\n",
       "    <tr>\n",
       "      <th>DebtRatio</th>\n",
       "      <td>102619.0</td>\n",
       "      <td>0.305104</td>\n",
       "      <td>0.223074</td>\n",
       "      <td>0.0</td>\n",
       "      <td>0.131500</td>\n",
       "      <td>0.278077</td>\n",
       "      <td>0.439218</td>\n",
       "      <td>1.0</td>\n",
       "    </tr>\n",
       "    <tr>\n",
       "      <th>MonthlyIncome</th>\n",
       "      <td>102619.0</td>\n",
       "      <td>5976.314990</td>\n",
       "      <td>3172.790325</td>\n",
       "      <td>0.0</td>\n",
       "      <td>3520.000000</td>\n",
       "      <td>5401.000000</td>\n",
       "      <td>8000.000000</td>\n",
       "      <td>15509.0</td>\n",
       "    </tr>\n",
       "    <tr>\n",
       "      <th>NumberOfOpenCreditLinesAndLoans</th>\n",
       "      <td>102619.0</td>\n",
       "      <td>8.167201</td>\n",
       "      <td>4.315397</td>\n",
       "      <td>0.0</td>\n",
       "      <td>5.000000</td>\n",
       "      <td>8.000000</td>\n",
       "      <td>11.000000</td>\n",
       "      <td>20.0</td>\n",
       "    </tr>\n",
       "    <tr>\n",
       "      <th>NumberOfTimes90DaysLate</th>\n",
       "      <td>102619.0</td>\n",
       "      <td>0.081671</td>\n",
       "      <td>0.445499</td>\n",
       "      <td>0.0</td>\n",
       "      <td>0.000000</td>\n",
       "      <td>0.000000</td>\n",
       "      <td>0.000000</td>\n",
       "      <td>17.0</td>\n",
       "    </tr>\n",
       "    <tr>\n",
       "      <th>NumberRealEstateLoansOrLines</th>\n",
       "      <td>102619.0</td>\n",
       "      <td>0.944260</td>\n",
       "      <td>0.940466</td>\n",
       "      <td>0.0</td>\n",
       "      <td>0.000000</td>\n",
       "      <td>1.000000</td>\n",
       "      <td>2.000000</td>\n",
       "      <td>5.0</td>\n",
       "    </tr>\n",
       "    <tr>\n",
       "      <th>NumberOfTime60-89DaysPastDueNotWorse</th>\n",
       "      <td>102619.0</td>\n",
       "      <td>0.059014</td>\n",
       "      <td>0.303632</td>\n",
       "      <td>0.0</td>\n",
       "      <td>0.000000</td>\n",
       "      <td>0.000000</td>\n",
       "      <td>0.000000</td>\n",
       "      <td>11.0</td>\n",
       "    </tr>\n",
       "    <tr>\n",
       "      <th>NumberOfDependents</th>\n",
       "      <td>102619.0</td>\n",
       "      <td>0.833033</td>\n",
       "      <td>1.135970</td>\n",
       "      <td>0.0</td>\n",
       "      <td>0.000000</td>\n",
       "      <td>0.000000</td>\n",
       "      <td>1.000000</td>\n",
       "      <td>20.0</td>\n",
       "    </tr>\n",
       "  </tbody>\n",
       "</table>\n",
       "</div>"
      ],
      "text/plain": [
       "                                         count         mean          std  \\\n",
       "SeriousDlqin2yrs                      102619.0     0.060301     0.238044   \n",
       "RevolvingUtilizationOfUnsecuredLines  102619.0     0.313990     0.337699   \n",
       "age                                   102619.0    51.270583    14.645882   \n",
       "NumberOfTime30-59DaysPastDueNotWorse  102619.0     0.236028     0.668551   \n",
       "DebtRatio                             102619.0     0.305104     0.223074   \n",
       "MonthlyIncome                         102619.0  5976.314990  3172.790325   \n",
       "NumberOfOpenCreditLinesAndLoans       102619.0     8.167201     4.315397   \n",
       "NumberOfTimes90DaysLate               102619.0     0.081671     0.445499   \n",
       "NumberRealEstateLoansOrLines          102619.0     0.944260     0.940466   \n",
       "NumberOfTime60-89DaysPastDueNotWorse  102619.0     0.059014     0.303632   \n",
       "NumberOfDependents                    102619.0     0.833033     1.135970   \n",
       "\n",
       "                                       min          25%          50%  \\\n",
       "SeriousDlqin2yrs                       0.0     0.000000     0.000000   \n",
       "RevolvingUtilizationOfUnsecuredLines   0.0     0.032012     0.162375   \n",
       "age                                   21.0    40.000000    50.000000   \n",
       "NumberOfTime30-59DaysPastDueNotWorse   0.0     0.000000     0.000000   \n",
       "DebtRatio                              0.0     0.131500     0.278077   \n",
       "MonthlyIncome                          0.0  3520.000000  5401.000000   \n",
       "NumberOfOpenCreditLinesAndLoans        0.0     5.000000     8.000000   \n",
       "NumberOfTimes90DaysLate                0.0     0.000000     0.000000   \n",
       "NumberRealEstateLoansOrLines           0.0     0.000000     1.000000   \n",
       "NumberOfTime60-89DaysPastDueNotWorse   0.0     0.000000     0.000000   \n",
       "NumberOfDependents                     0.0     0.000000     0.000000   \n",
       "\n",
       "                                              75%      max  \n",
       "SeriousDlqin2yrs                         0.000000      1.0  \n",
       "RevolvingUtilizationOfUnsecuredLines     0.540918      1.0  \n",
       "age                                     62.000000    103.0  \n",
       "NumberOfTime30-59DaysPastDueNotWorse     0.000000     13.0  \n",
       "DebtRatio                                0.439218      1.0  \n",
       "MonthlyIncome                         8000.000000  15509.0  \n",
       "NumberOfOpenCreditLinesAndLoans         11.000000     20.0  \n",
       "NumberOfTimes90DaysLate                  0.000000     17.0  \n",
       "NumberRealEstateLoansOrLines             2.000000      5.0  \n",
       "NumberOfTime60-89DaysPastDueNotWorse     0.000000     11.0  \n",
       "NumberOfDependents                       1.000000     20.0  "
      ]
     },
     "execution_count": 29,
     "metadata": {},
     "output_type": "execute_result"
    }
   ],
   "source": [
    "df4.describe().T"
   ]
  },
  {
   "cell_type": "code",
   "execution_count": 30,
   "id": "f3b98cf0",
   "metadata": {
    "ExecuteTime": {
     "end_time": "2023-02-11T14:27:25.276350Z",
     "start_time": "2023-02-11T14:27:25.258926Z"
    }
   },
   "outputs": [
    {
     "data": {
      "text/plain": [
       "SeriousDlqin2yrs                        0\n",
       "RevolvingUtilizationOfUnsecuredLines    0\n",
       "age                                     0\n",
       "NumberOfTime30-59DaysPastDueNotWorse    0\n",
       "DebtRatio                               0\n",
       "MonthlyIncome                           0\n",
       "NumberOfOpenCreditLinesAndLoans         0\n",
       "NumberOfTimes90DaysLate                 0\n",
       "NumberRealEstateLoansOrLines            0\n",
       "NumberOfTime60-89DaysPastDueNotWorse    0\n",
       "NumberOfDependents                      0\n",
       "dtype: int64"
      ]
     },
     "execution_count": 30,
     "metadata": {},
     "output_type": "execute_result"
    }
   ],
   "source": [
    "df4.isnull().sum()"
   ]
  },
  {
   "cell_type": "code",
   "execution_count": 31,
   "id": "0bfec70a",
   "metadata": {
    "ExecuteTime": {
     "end_time": "2023-02-11T14:27:26.477143Z",
     "start_time": "2023-02-11T14:27:26.419164Z"
    }
   },
   "outputs": [
    {
     "data": {
      "text/html": [
       "<div>\n",
       "<style scoped>\n",
       "    .dataframe tbody tr th:only-of-type {\n",
       "        vertical-align: middle;\n",
       "    }\n",
       "\n",
       "    .dataframe tbody tr th {\n",
       "        vertical-align: top;\n",
       "    }\n",
       "\n",
       "    .dataframe thead th {\n",
       "        text-align: right;\n",
       "    }\n",
       "</style>\n",
       "<table border=\"1\" class=\"dataframe\">\n",
       "  <thead>\n",
       "    <tr style=\"text-align: right;\">\n",
       "      <th></th>\n",
       "      <th>SeriousDlqin2yrs</th>\n",
       "      <th>RevolvingUtilizationOfUnsecuredLines</th>\n",
       "      <th>age</th>\n",
       "      <th>NumberOfTime30-59DaysPastDueNotWorse</th>\n",
       "      <th>DebtRatio</th>\n",
       "      <th>MonthlyIncome</th>\n",
       "      <th>NumberOfOpenCreditLinesAndLoans</th>\n",
       "      <th>NumberOfTimes90DaysLate</th>\n",
       "      <th>NumberRealEstateLoansOrLines</th>\n",
       "      <th>NumberOfTime60-89DaysPastDueNotWorse</th>\n",
       "      <th>NumberOfDependents</th>\n",
       "    </tr>\n",
       "  </thead>\n",
       "  <tbody>\n",
       "    <tr>\n",
       "      <th>0</th>\n",
       "      <td>0</td>\n",
       "      <td>0.957151</td>\n",
       "      <td>40.0</td>\n",
       "      <td>0</td>\n",
       "      <td>0.121876</td>\n",
       "      <td>2600.0</td>\n",
       "      <td>4.0</td>\n",
       "      <td>0</td>\n",
       "      <td>0.0</td>\n",
       "      <td>0</td>\n",
       "      <td>1.0</td>\n",
       "    </tr>\n",
       "    <tr>\n",
       "      <th>1</th>\n",
       "      <td>0</td>\n",
       "      <td>0.658180</td>\n",
       "      <td>38.0</td>\n",
       "      <td>1</td>\n",
       "      <td>0.085113</td>\n",
       "      <td>3042.0</td>\n",
       "      <td>2.0</td>\n",
       "      <td>1</td>\n",
       "      <td>0.0</td>\n",
       "      <td>0</td>\n",
       "      <td>0.0</td>\n",
       "    </tr>\n",
       "    <tr>\n",
       "      <th>2</th>\n",
       "      <td>0</td>\n",
       "      <td>0.233810</td>\n",
       "      <td>30.0</td>\n",
       "      <td>0</td>\n",
       "      <td>0.036050</td>\n",
       "      <td>3300.0</td>\n",
       "      <td>5.0</td>\n",
       "      <td>0</td>\n",
       "      <td>0.0</td>\n",
       "      <td>0</td>\n",
       "      <td>0.0</td>\n",
       "    </tr>\n",
       "    <tr>\n",
       "      <th>3</th>\n",
       "      <td>0</td>\n",
       "      <td>0.213179</td>\n",
       "      <td>74.0</td>\n",
       "      <td>0</td>\n",
       "      <td>0.375607</td>\n",
       "      <td>3500.0</td>\n",
       "      <td>3.0</td>\n",
       "      <td>0</td>\n",
       "      <td>1.0</td>\n",
       "      <td>0</td>\n",
       "      <td>1.0</td>\n",
       "    </tr>\n",
       "    <tr>\n",
       "      <th>4</th>\n",
       "      <td>0</td>\n",
       "      <td>0.754464</td>\n",
       "      <td>39.0</td>\n",
       "      <td>0</td>\n",
       "      <td>0.209940</td>\n",
       "      <td>3500.0</td>\n",
       "      <td>8.0</td>\n",
       "      <td>0</td>\n",
       "      <td>0.0</td>\n",
       "      <td>0</td>\n",
       "      <td>0.0</td>\n",
       "    </tr>\n",
       "    <tr>\n",
       "      <th>...</th>\n",
       "      <td>...</td>\n",
       "      <td>...</td>\n",
       "      <td>...</td>\n",
       "      <td>...</td>\n",
       "      <td>...</td>\n",
       "      <td>...</td>\n",
       "      <td>...</td>\n",
       "      <td>...</td>\n",
       "      <td>...</td>\n",
       "      <td>...</td>\n",
       "      <td>...</td>\n",
       "    </tr>\n",
       "    <tr>\n",
       "      <th>102614</th>\n",
       "      <td>0</td>\n",
       "      <td>0.385742</td>\n",
       "      <td>50.0</td>\n",
       "      <td>0</td>\n",
       "      <td>0.404293</td>\n",
       "      <td>3400.0</td>\n",
       "      <td>7.0</td>\n",
       "      <td>0</td>\n",
       "      <td>0.0</td>\n",
       "      <td>0</td>\n",
       "      <td>0.0</td>\n",
       "    </tr>\n",
       "    <tr>\n",
       "      <th>102615</th>\n",
       "      <td>0</td>\n",
       "      <td>0.040674</td>\n",
       "      <td>74.0</td>\n",
       "      <td>0</td>\n",
       "      <td>0.225131</td>\n",
       "      <td>2100.0</td>\n",
       "      <td>4.0</td>\n",
       "      <td>0</td>\n",
       "      <td>1.0</td>\n",
       "      <td>0</td>\n",
       "      <td>0.0</td>\n",
       "    </tr>\n",
       "    <tr>\n",
       "      <th>102616</th>\n",
       "      <td>0</td>\n",
       "      <td>0.299745</td>\n",
       "      <td>44.0</td>\n",
       "      <td>0</td>\n",
       "      <td>0.716562</td>\n",
       "      <td>5584.0</td>\n",
       "      <td>4.0</td>\n",
       "      <td>0</td>\n",
       "      <td>1.0</td>\n",
       "      <td>0</td>\n",
       "      <td>2.0</td>\n",
       "    </tr>\n",
       "    <tr>\n",
       "      <th>102617</th>\n",
       "      <td>0</td>\n",
       "      <td>0.000000</td>\n",
       "      <td>30.0</td>\n",
       "      <td>0</td>\n",
       "      <td>0.000000</td>\n",
       "      <td>5716.0</td>\n",
       "      <td>4.0</td>\n",
       "      <td>0</td>\n",
       "      <td>0.0</td>\n",
       "      <td>0</td>\n",
       "      <td>0.0</td>\n",
       "    </tr>\n",
       "    <tr>\n",
       "      <th>102618</th>\n",
       "      <td>0</td>\n",
       "      <td>0.850283</td>\n",
       "      <td>64.0</td>\n",
       "      <td>0</td>\n",
       "      <td>0.249908</td>\n",
       "      <td>8158.0</td>\n",
       "      <td>8.0</td>\n",
       "      <td>0</td>\n",
       "      <td>2.0</td>\n",
       "      <td>0</td>\n",
       "      <td>0.0</td>\n",
       "    </tr>\n",
       "  </tbody>\n",
       "</table>\n",
       "<p>102619 rows × 11 columns</p>\n",
       "</div>"
      ],
      "text/plain": [
       "        SeriousDlqin2yrs  RevolvingUtilizationOfUnsecuredLines   age  \\\n",
       "0                      0                              0.957151  40.0   \n",
       "1                      0                              0.658180  38.0   \n",
       "2                      0                              0.233810  30.0   \n",
       "3                      0                              0.213179  74.0   \n",
       "4                      0                              0.754464  39.0   \n",
       "...                  ...                                   ...   ...   \n",
       "102614                 0                              0.385742  50.0   \n",
       "102615                 0                              0.040674  74.0   \n",
       "102616                 0                              0.299745  44.0   \n",
       "102617                 0                              0.000000  30.0   \n",
       "102618                 0                              0.850283  64.0   \n",
       "\n",
       "        NumberOfTime30-59DaysPastDueNotWorse  DebtRatio  MonthlyIncome  \\\n",
       "0                                          0   0.121876         2600.0   \n",
       "1                                          1   0.085113         3042.0   \n",
       "2                                          0   0.036050         3300.0   \n",
       "3                                          0   0.375607         3500.0   \n",
       "4                                          0   0.209940         3500.0   \n",
       "...                                      ...        ...            ...   \n",
       "102614                                     0   0.404293         3400.0   \n",
       "102615                                     0   0.225131         2100.0   \n",
       "102616                                     0   0.716562         5584.0   \n",
       "102617                                     0   0.000000         5716.0   \n",
       "102618                                     0   0.249908         8158.0   \n",
       "\n",
       "        NumberOfOpenCreditLinesAndLoans  NumberOfTimes90DaysLate  \\\n",
       "0                                   4.0                        0   \n",
       "1                                   2.0                        1   \n",
       "2                                   5.0                        0   \n",
       "3                                   3.0                        0   \n",
       "4                                   8.0                        0   \n",
       "...                                 ...                      ...   \n",
       "102614                              7.0                        0   \n",
       "102615                              4.0                        0   \n",
       "102616                              4.0                        0   \n",
       "102617                              4.0                        0   \n",
       "102618                              8.0                        0   \n",
       "\n",
       "        NumberRealEstateLoansOrLines  NumberOfTime60-89DaysPastDueNotWorse  \\\n",
       "0                                0.0                                     0   \n",
       "1                                0.0                                     0   \n",
       "2                                0.0                                     0   \n",
       "3                                1.0                                     0   \n",
       "4                                0.0                                     0   \n",
       "...                              ...                                   ...   \n",
       "102614                           0.0                                     0   \n",
       "102615                           1.0                                     0   \n",
       "102616                           1.0                                     0   \n",
       "102617                           0.0                                     0   \n",
       "102618                           2.0                                     0   \n",
       "\n",
       "        NumberOfDependents  \n",
       "0                      1.0  \n",
       "1                      0.0  \n",
       "2                      0.0  \n",
       "3                      1.0  \n",
       "4                      0.0  \n",
       "...                    ...  \n",
       "102614                 0.0  \n",
       "102615                 0.0  \n",
       "102616                 2.0  \n",
       "102617                 0.0  \n",
       "102618                 0.0  \n",
       "\n",
       "[102619 rows x 11 columns]"
      ]
     },
     "execution_count": 31,
     "metadata": {},
     "output_type": "execute_result"
    }
   ],
   "source": [
    "df4.reset_index(drop = True)"
   ]
  },
  {
   "cell_type": "code",
   "execution_count": 32,
   "id": "5f14ece9",
   "metadata": {
    "ExecuteTime": {
     "end_time": "2023-02-11T14:27:29.675962Z",
     "start_time": "2023-02-11T14:27:28.106248Z"
    }
   },
   "outputs": [],
   "source": [
    "df4.to_csv('credit_preprocessing.csv')"
   ]
  },
  {
   "cell_type": "markdown",
   "id": "56d89687",
   "metadata": {},
   "source": [
    "# Feature Scaling"
   ]
  },
  {
   "cell_type": "code",
   "execution_count": 39,
   "id": "4db333f7",
   "metadata": {
    "ExecuteTime": {
     "end_time": "2023-02-11T14:19:39.153701Z",
     "start_time": "2023-02-11T14:19:36.117979Z"
    }
   },
   "outputs": [
    {
     "name": "stdout",
     "output_type": "stream",
     "text": [
      "Requirement already satisfied: imbalanced-learn in c:\\users\\sa\\anaconda3\\envs\\ml\\lib\\site-packages (0.10.1)\n",
      "Requirement already satisfied: scipy>=1.3.2 in c:\\users\\sa\\anaconda3\\envs\\ml\\lib\\site-packages (from imbalanced-learn) (1.10.0)\n",
      "Requirement already satisfied: joblib>=1.1.1 in c:\\users\\sa\\anaconda3\\envs\\ml\\lib\\site-packages (from imbalanced-learn) (1.2.0)\n",
      "Requirement already satisfied: scikit-learn>=1.0.2 in c:\\users\\sa\\anaconda3\\envs\\ml\\lib\\site-packages (from imbalanced-learn) (1.2.1)\n",
      "Requirement already satisfied: numpy>=1.17.3 in c:\\users\\sa\\anaconda3\\envs\\ml\\lib\\site-packages (from imbalanced-learn) (1.23.5)\n",
      "Requirement already satisfied: threadpoolctl>=2.0.0 in c:\\users\\sa\\anaconda3\\envs\\ml\\lib\\site-packages (from imbalanced-learn) (3.1.0)\n"
     ]
    }
   ],
   "source": [
    "!pip install imbalanced-learn"
   ]
  },
  {
   "cell_type": "code",
   "execution_count": 33,
   "id": "59f2020a",
   "metadata": {
    "ExecuteTime": {
     "end_time": "2023-02-11T14:27:35.059424Z",
     "start_time": "2023-02-11T14:27:32.212117Z"
    }
   },
   "outputs": [],
   "source": [
    "from sklearn.preprocessing import StandardScaler\n",
    "from sklearn.model_selection import train_test_split\n",
    "from imblearn.over_sampling import SMOTE"
   ]
  },
  {
   "cell_type": "markdown",
   "id": "9db13fd5",
   "metadata": {},
   "source": [
    "## 데이터 분리"
   ]
  },
  {
   "cell_type": "code",
   "execution_count": 34,
   "id": "f3636e98",
   "metadata": {
    "ExecuteTime": {
     "end_time": "2023-02-11T14:27:37.247655Z",
     "start_time": "2023-02-11T14:27:37.227581Z"
    }
   },
   "outputs": [],
   "source": [
    "y = df4['SeriousDlqin2yrs']\n",
    "X = df4.drop(columns = 'SeriousDlqin2yrs')"
   ]
  },
  {
   "cell_type": "code",
   "execution_count": 35,
   "id": "95555608",
   "metadata": {
    "ExecuteTime": {
     "end_time": "2023-02-11T14:27:38.386924Z",
     "start_time": "2023-02-11T14:27:38.367619Z"
    }
   },
   "outputs": [
    {
     "data": {
      "text/plain": [
       "((102619, 10), (102619,))"
      ]
     },
     "execution_count": 35,
     "metadata": {},
     "output_type": "execute_result"
    }
   ],
   "source": [
    "X.shape, y.shape"
   ]
  },
  {
   "cell_type": "markdown",
   "id": "32b66434",
   "metadata": {},
   "source": [
    "## OverSampling "
   ]
  },
  {
   "cell_type": "code",
   "execution_count": 36,
   "id": "452da448",
   "metadata": {
    "ExecuteTime": {
     "end_time": "2023-02-11T14:27:40.325454Z",
     "start_time": "2023-02-11T14:27:40.072763Z"
    }
   },
   "outputs": [],
   "source": [
    "smote = SMOTE(random_state = 0)\n",
    "over_X, over_y = smote.fit_resample(X, y)"
   ]
  },
  {
   "cell_type": "code",
   "execution_count": 37,
   "id": "14156444",
   "metadata": {
    "ExecuteTime": {
     "end_time": "2023-02-11T14:27:42.007318Z",
     "start_time": "2023-02-11T14:27:41.635710Z"
    }
   },
   "outputs": [
    {
     "data": {
      "text/plain": [
       "((108484, 10), (36162, 10), (48216, 10))"
      ]
     },
     "execution_count": 37,
     "metadata": {},
     "output_type": "execute_result"
    }
   ],
   "source": [
    "X_train, X_test, y_train, y_test = train_test_split(over_X, over_y, stratify = over_y, random_state = 0)\n",
    "X_train, X_val, y_train, y_val = train_test_split(X_train, y_train, stratify = y_train, random_state = 0)\n",
    "X_train.shape, X_val.shape, X_test.shape"
   ]
  },
  {
   "cell_type": "markdown",
   "id": "221f3b24",
   "metadata": {},
   "source": [
    "## Scaling "
   ]
  },
  {
   "cell_type": "code",
   "execution_count": 38,
   "id": "761e1ed2",
   "metadata": {
    "ExecuteTime": {
     "end_time": "2023-02-11T14:27:43.818440Z",
     "start_time": "2023-02-11T14:27:43.753073Z"
    }
   },
   "outputs": [],
   "source": [
    "scaler = StandardScaler()\n",
    "\n",
    "scaled_X_train = scaler.fit_transform(X_train)\n",
    "scaled_X_val = scaler.transform(X_val)\n",
    "scaled_X_test = scaler.transform(X_test)"
   ]
  },
  {
   "cell_type": "markdown",
   "id": "e293f056",
   "metadata": {},
   "source": [
    "# 모델링 - DecisionTree, RFC, KNN, XGBoost, LogisticRegression "
   ]
  },
  {
   "cell_type": "code",
   "execution_count": 39,
   "id": "962a6f1b",
   "metadata": {
    "ExecuteTime": {
     "end_time": "2023-02-11T14:27:46.937879Z",
     "start_time": "2023-02-11T14:27:46.868304Z"
    }
   },
   "outputs": [],
   "source": [
    "from sklearn.model_selection import GridSearchCV\n",
    "from sklearn.tree import DecisionTreeClassifier\n",
    "from sklearn.ensemble import RandomForestClassifier\n",
    "from sklearn.neighbors import KNeighborsClassifier\n",
    "from xgboost import XGBClassifier\n",
    "from sklearn.linear_model import LogisticRegression\n",
    "\n",
    "from sklearn.metrics import accuracy_score, average_precision_score, roc_auc_score"
   ]
  },
  {
   "cell_type": "markdown",
   "id": "da05812c",
   "metadata": {},
   "source": [
    "## 모델 생성 및 학습"
   ]
  },
  {
   "cell_type": "code",
   "execution_count": 40,
   "id": "f98f9656",
   "metadata": {
    "ExecuteTime": {
     "end_time": "2023-02-11T14:27:49.457413Z",
     "start_time": "2023-02-11T14:27:49.435856Z"
    }
   },
   "outputs": [],
   "source": [
    "tree = DecisionTreeClassifier(random_state = 0)\n",
    "rfc = RandomForestClassifier(random_state = 0)\n",
    "knn = KNeighborsClassifier()\n",
    "xgb = XGBClassifier()\n",
    "lr = LogisticRegression(solver = 'liblinear', random_state = 0)\n",
    "\n",
    "estimators = [\n",
    "    ('Tree', tree),\n",
    "    ('RFC', rfc),\n",
    "    ('KNN', knn),\n",
    "    ('XGB', xgb),\n",
    "    ('LR', lr)\n",
    "]"
   ]
  },
  {
   "cell_type": "code",
   "execution_count": 41,
   "id": "358a874f",
   "metadata": {
    "ExecuteTime": {
     "end_time": "2023-02-11T14:35:01.117663Z",
     "start_time": "2023-02-11T14:27:54.448274Z"
    }
   },
   "outputs": [
    {
     "name": "stdout",
     "output_type": "stream",
     "text": [
      "Tree - Train Set\n",
      "acc_score: 0.9999907820508094 ap_score: 0.9999999986405709 roc_auc_score: 0.9999999993202353\n",
      "Tree - Val Set\n",
      "acc_score: 0.9163209999446933 ap_score: 0.8793667409181931 roc_auc_score: 0.9163461664549973\n",
      "====================================================================================================\n",
      "RFC - Train Set\n",
      "acc_score: 0.9999907820508094 ap_score: 0.999999261650508 roc_auc_score: 0.9999992315260087\n",
      "RFC - Val Set\n",
      "acc_score: 0.9466014047895581 ap_score: 0.98898436845797 roc_auc_score: 0.9868940583761059\n",
      "====================================================================================================\n",
      "KNN - Train Set\n",
      "acc_score: 0.8909332251760629 ap_score: 0.9552982569199527 roc_auc_score: 0.9668288288292821\n",
      "KNN - Val Set\n",
      "acc_score: 0.8343288534926165 ap_score: 0.8603394707762251 roc_auc_score: 0.9037274686588547\n",
      "====================================================================================================\n",
      "XGB - Train Set\n",
      "acc_score: 0.9724014601231518 ap_score: 0.9947926045389317 roc_auc_score: 0.9932693451880091\n",
      "XGB - Val Set\n",
      "acc_score: 0.9635529008351308 ap_score: 0.991752571795425 roc_auc_score: 0.9891657309022488\n",
      "====================================================================================================\n",
      "LR - Train Set\n",
      "acc_score: 0.7366431916227277 ap_score: 0.7808661227082827 roc_auc_score: 0.8111561387549352\n",
      "LR - Val Set\n",
      "acc_score: 0.7330070239477905 ap_score: 0.779565180138337 roc_auc_score: 0.8084803330535515\n",
      "====================================================================================================\n"
     ]
    }
   ],
   "source": [
    "for model_name, model in estimators:\n",
    "    model.fit(scaled_X_train, y_train)\n",
    "    \n",
    "    train_pred = model.predict(scaled_X_train)\n",
    "    val_pred = model.predict(scaled_X_val)\n",
    "    \n",
    "    train_pred_proba = model.predict_proba(scaled_X_train)[:, 1]\n",
    "    val_pred_proba = model.predict_proba(scaled_X_val)[:, 1]\n",
    "    \n",
    "    print(f'{model_name} - Train Set')\n",
    "    print('acc_score:', accuracy_score(y_train, train_pred), 'ap_score:', average_precision_score(y_train, train_pred_proba), 'roc_auc_score:', roc_auc_score(y_train, train_pred_proba))\n",
    "    print(f'{model_name} - Val Set')\n",
    "    print('acc_score:', accuracy_score(y_val, val_pred), 'ap_score:', average_precision_score(y_val, val_pred_proba), 'roc_auc_score:', roc_auc_score(y_val, val_pred_proba))\n",
    "    print('='*100)"
   ]
  },
  {
   "cell_type": "markdown",
   "id": "8a2c427f",
   "metadata": {},
   "source": [
    "## 최적의 Hyper Parameter 찾기 "
   ]
  },
  {
   "cell_type": "code",
   "execution_count": 47,
   "id": "63b54221",
   "metadata": {
    "ExecuteTime": {
     "end_time": "2023-02-11T09:49:23.282496Z",
     "start_time": "2023-02-11T09:49:14.310382Z"
    }
   },
   "outputs": [
    {
     "name": "stdout",
     "output_type": "stream",
     "text": [
      "Fitting 5 folds for each of 5 candidates, totalling 25 fits\n"
     ]
    },
    {
     "data": {
      "text/plain": [
       "{'max_depth': 9}"
      ]
     },
     "execution_count": 47,
     "metadata": {},
     "output_type": "execute_result"
    }
   ],
   "source": [
    "tree_params = {\n",
    "    'max_depth':range(1, 11, 2)\n",
    "}\n",
    "\n",
    "gs_tree = GridSearchCV(tree, tree_params, scoring = ['accuracy', 'average_precision', 'roc_auc'], refit = 'roc_auc', n_jobs = -1, verbose = True)\n",
    "gs_tree.fit(scaled_X_train, y_train)\n",
    "\n",
    "gs_tree.best_params_"
   ]
  },
  {
   "cell_type": "code",
   "execution_count": 224,
   "id": "76e4db40",
   "metadata": {
    "ExecuteTime": {
     "end_time": "2023-02-11T08:34:59.823629Z",
     "start_time": "2023-02-11T08:34:59.813655Z"
    }
   },
   "outputs": [],
   "source": [
    "rfc?"
   ]
  },
  {
   "cell_type": "code",
   "execution_count": 48,
   "id": "de58b0bd",
   "metadata": {
    "ExecuteTime": {
     "end_time": "2023-02-11T10:36:58.667883Z",
     "start_time": "2023-02-11T09:49:28.976087Z"
    }
   },
   "outputs": [
    {
     "name": "stdout",
     "output_type": "stream",
     "text": [
      "Fitting 4 folds for each of 18 candidates, totalling 72 fits\n"
     ]
    },
    {
     "data": {
      "text/plain": [
       "{'max_depth': 5, 'max_features': 5, 'n_estimators': 500}"
      ]
     },
     "execution_count": 48,
     "metadata": {},
     "output_type": "execute_result"
    }
   ],
   "source": [
    "rfc_params = {\n",
    "    'n_estimators':[200, 500, 1000],\n",
    "    'max_depth':[1, 3, 5],\n",
    "    'max_features':[5, 10]\n",
    "}\n",
    "\n",
    "gs_rfc = GridSearchCV(rfc, rfc_params, scoring = ['accuracy', 'average_precision', 'roc_auc'], refit = 'roc_auc', n_jobs = -1, cv = 4, verbose = True)\n",
    "gs_rfc.fit(scaled_X_train, y_train)\n",
    "\n",
    "gs_rfc.best_params_"
   ]
  },
  {
   "cell_type": "code",
   "execution_count": null,
   "id": "ad8d8335",
   "metadata": {
    "ExecuteTime": {
     "start_time": "2023-02-11T09:15:28.284Z"
    }
   },
   "outputs": [],
   "source": [
    "knn?"
   ]
  },
  {
   "cell_type": "code",
   "execution_count": 50,
   "id": "6479f5d7",
   "metadata": {
    "ExecuteTime": {
     "end_time": "2023-02-11T10:53:36.893715Z",
     "start_time": "2023-02-11T10:42:33.109439Z"
    }
   },
   "outputs": [
    {
     "name": "stdout",
     "output_type": "stream",
     "text": [
      "Fitting 5 folds for each of 10 candidates, totalling 50 fits\n"
     ]
    },
    {
     "data": {
      "text/plain": [
       "{'n_neighbors': 5, 'p': 1}"
      ]
     },
     "execution_count": 50,
     "metadata": {},
     "output_type": "execute_result"
    }
   ],
   "source": [
    "knn_params = {\n",
    "    'n_neighbors':[1, 3, 5, 7, 9],\n",
    "    'p':[1, 2]\n",
    "}\n",
    "\n",
    "gs_knn = GridSearchCV(knn, knn_params, scoring = ['accuracy', 'average_precision', 'roc_auc'], refit = 'roc_auc', n_jobs = -1, verbose = True)\n",
    "gs_knn.fit(scaled_X_train, y_train)\n",
    "\n",
    "gs_knn.best_params_"
   ]
  },
  {
   "cell_type": "code",
   "execution_count": null,
   "id": "a31b6be4",
   "metadata": {},
   "outputs": [],
   "source": [
    "xgb?"
   ]
  },
  {
   "cell_type": "code",
   "execution_count": 42,
   "id": "47422b88",
   "metadata": {
    "ExecuteTime": {
     "end_time": "2023-02-11T16:45:34.397266Z",
     "start_time": "2023-02-11T14:40:12.980814Z"
    }
   },
   "outputs": [
    {
     "name": "stdout",
     "output_type": "stream",
     "text": [
      "Fitting 5 folds for each of 45 candidates, totalling 225 fits\n",
      "[01:45:11] WARNING: C:/buildkite-agent/builds/buildkite-windows-cpu-autoscaling-group-i-08de971ced8a8cdc6-1/xgboost/xgboost-ci-windows/src/learner.cc:767: \n",
      "Parameters: { \"learnig_rate\" } are not used.\n",
      "\n"
     ]
    },
    {
     "data": {
      "text/plain": [
       "{'learnig_rate': 0.01, 'max_depth': 2, 'n_estimators': 700}"
      ]
     },
     "execution_count": 42,
     "metadata": {},
     "output_type": "execute_result"
    }
   ],
   "source": [
    "xgb_params = {\n",
    "    'n_estimators':[500, 700, 900],\n",
    "    'learnig_rate':[0.01, 0.1, 0.2],\n",
    "    'max_depth':[1, 2, 3, 4, 5]\n",
    "}\n",
    "\n",
    "gs_xgb = GridSearchCV(xgb, xgb_params, scoring = ['accuracy', 'average_precision', 'roc_auc'], refit = 'roc_auc', n_jobs = -1, verbose = True)\n",
    "gs_xgb.fit(scaled_X_train, y_train)\n",
    "\n",
    "gs_xgb.best_params_"
   ]
  },
  {
   "cell_type": "code",
   "execution_count": null,
   "id": "f240eca3",
   "metadata": {},
   "outputs": [],
   "source": [
    "lr?"
   ]
  },
  {
   "cell_type": "code",
   "execution_count": 56,
   "id": "58f6c5da",
   "metadata": {
    "ExecuteTime": {
     "end_time": "2023-02-11T11:00:23.174093Z",
     "start_time": "2023-02-11T11:00:18.957344Z"
    }
   },
   "outputs": [
    {
     "name": "stdout",
     "output_type": "stream",
     "text": [
      "Fitting 5 folds for each of 8 candidates, totalling 40 fits\n"
     ]
    },
    {
     "data": {
      "text/plain": [
       "{'C': 5, 'penalty': 'l2'}"
      ]
     },
     "execution_count": 56,
     "metadata": {},
     "output_type": "execute_result"
    }
   ],
   "source": [
    "lr_params = {\n",
    "    'penalty':['l1', 'l2'],\n",
    "    'C':[0.01, 0.1, 1, 5]\n",
    "}\n",
    "\n",
    "gs_lr = GridSearchCV(lr, lr_params, scoring = ['accuracy', 'average_precision', 'roc_auc'], refit = 'roc_auc', n_jobs = -1, verbose = True)\n",
    "gs_lr.fit(scaled_X_train, y_train)\n",
    "\n",
    "gs_lr.best_params_"
   ]
  },
  {
   "cell_type": "markdown",
   "id": "40e7b4e2",
   "metadata": {},
   "source": [
    "# 최적 Hyper Paramert로 중간평가"
   ]
  },
  {
   "cell_type": "code",
   "execution_count": 43,
   "id": "a2116ad7",
   "metadata": {
    "ExecuteTime": {
     "end_time": "2023-02-11T17:02:13.402739Z",
     "start_time": "2023-02-11T17:02:13.392765Z"
    }
   },
   "outputs": [],
   "source": [
    "tree_h = DecisionTreeClassifier(max_depth = 9, random_state = 0)\n",
    "rfc_h = RandomForestClassifier(max_depth = 5, max_features = 5, n_estimators = 500, random_state = 0)\n",
    "knn_h = KNeighborsClassifier(n_neighbors = 5, p = 1)\n",
    "xgb_h = XGBClassifier(learning_rate = 0.01, max_depth = 2, n_estimators = 700)\n",
    "lr_h = LogisticRegression(solver = 'liblinear', penalty = 'l2', C = 5, random_state = 0)\n",
    "\n",
    "est_h = [\n",
    "    ('Tree_h', tree_h),\n",
    "    ('RFC_h', rfc_h),\n",
    "    ('KNN_h', knn_h),\n",
    "    ('XGB_h', xgb_h),\n",
    "    ('LR_h', lr_h)\n",
    "]"
   ]
  },
  {
   "cell_type": "code",
   "execution_count": 44,
   "id": "e70e7f0e",
   "metadata": {
    "ExecuteTime": {
     "end_time": "2023-02-11T17:08:31.438241Z",
     "start_time": "2023-02-11T17:02:15.149549Z"
    }
   },
   "outputs": [
    {
     "name": "stdout",
     "output_type": "stream",
     "text": [
      "Tree_h - Train Set\n",
      "acc_score: 0.885301058220567 ap_score: 0.9595393192746378 roc_auc_score: 0.9495448775494373\n",
      "Tree_h - Val Set\n",
      "acc_score: 0.8802333941706764 ap_score: 0.9546201606760497 roc_auc_score: 0.9431120050475807\n",
      "====================================================================================================\n",
      "RFC_h - Train Set\n",
      "acc_score: 0.820544965156152 ap_score: 0.9190734915946779 roc_auc_score: 0.9091930357804848\n",
      "RFC_h - Val Set\n",
      "acc_score: 0.8190918643880316 ap_score: 0.9174772546749451 roc_auc_score: 0.9076673879353343\n",
      "====================================================================================================\n",
      "KNN_h - Train Set\n",
      "acc_score: 0.9168909700969728 ap_score: 0.9684008350347199 roc_auc_score: 0.9774406769993611\n",
      "KNN_h - Val Set\n",
      "acc_score: 0.8672086720867209 ap_score: 0.901157674354531 roc_auc_score: 0.9324511837529622\n",
      "====================================================================================================\n",
      "XGB_h - Train Set\n",
      "acc_score: 0.8868588916337893 ap_score: 0.9623047494417654 roc_auc_score: 0.9539941198463856\n",
      "XGB_h - Val Set\n",
      "acc_score: 0.885736408384492 ap_score: 0.9623104728701072 roc_auc_score: 0.9539763760751893\n",
      "====================================================================================================\n",
      "LR_h - Train Set\n",
      "acc_score: 0.7366339736735371 ap_score: 0.7808669322583467 roc_auc_score: 0.8111564867944606\n",
      "LR_h - Val Set\n",
      "acc_score: 0.7330070239477905 ap_score: 0.7795660598129819 roc_auc_score: 0.808480834701402\n",
      "====================================================================================================\n"
     ]
    }
   ],
   "source": [
    "for model_name, model in est_h:\n",
    "    model.fit(scaled_X_train, y_train)\n",
    "    \n",
    "    train_pred_h = model.predict(scaled_X_train)\n",
    "    val_pred_h = model.predict(scaled_X_val)\n",
    "    \n",
    "    train_pred_proba_h = model.predict_proba(scaled_X_train)[:, 1]\n",
    "    val_pred_proba_h = model.predict_proba(scaled_X_val)[:, 1]\n",
    "    \n",
    "    print(f'{model_name} - Train Set')\n",
    "    print('acc_score:', accuracy_score(y_train, train_pred_h), 'ap_score:', average_precision_score(y_train, train_pred_proba_h), 'roc_auc_score:', roc_auc_score(y_train, train_pred_proba_h))\n",
    "    print(f'{model_name} - Val Set')\n",
    "    print('acc_score:', accuracy_score(y_val, val_pred_h), 'ap_score:', average_precision_score(y_val, val_pred_proba_h), 'roc_auc_score:', roc_auc_score(y_val, val_pred_proba_h))\n",
    "    print('='*100)"
   ]
  },
  {
   "cell_type": "markdown",
   "id": "4907510a",
   "metadata": {},
   "source": [
    "# 최종평가 "
   ]
  },
  {
   "cell_type": "code",
   "execution_count": 47,
   "id": "ee9ba806",
   "metadata": {
    "ExecuteTime": {
     "end_time": "2023-02-11T17:21:12.673957Z",
     "start_time": "2023-02-11T17:21:12.293086Z"
    }
   },
   "outputs": [
    {
     "name": "stdout",
     "output_type": "stream",
     "text": [
      "Tree_h\n",
      "acc_score: 0.883544881367181 ap_score: 0.9562966166520008 roc_auc_score: 0.9452408930910401\n",
      "XGB_h\n",
      "acc_score: 0.8875477020076323 ap_score: 0.9628528586970976 roc_auc_score: 0.9546471822955651\n"
     ]
    }
   ],
   "source": [
    "test_pred_tree_h = tree_h.predict(scaled_X_test)\n",
    "test_pred_xgb_h = xgb_h.predict(scaled_X_test)\n",
    "\n",
    "\n",
    "test_pred_proba_tree_h = tree_h.predict_proba(scaled_X_test)[:, 1]\n",
    "test_pred_proba_xgb_h = xgb_h.predict_proba(scaled_X_test)[:, 1]\n",
    "\n",
    "print('Tree_h')\n",
    "print('acc_score:', accuracy_score(y_test, test_pred_tree_h), 'ap_score:', average_precision_score(y_test, test_pred_proba_tree_h), 'roc_auc_score:', roc_auc_score(y_test, test_pred_proba_tree_h))\n",
    "print('XGB_h')\n",
    "print('acc_score:', accuracy_score(y_test, test_pred_xgb_h), 'ap_score:', average_precision_score(y_test, test_pred_proba_xgb_h), 'roc_auc_score:', roc_auc_score(y_test, test_pred_proba_xgb_h))"
   ]
  }
 ],
 "metadata": {
  "kernelspec": {
   "display_name": "Python 3 (ipykernel)",
   "language": "python",
   "name": "python3"
  },
  "language_info": {
   "codemirror_mode": {
    "name": "ipython",
    "version": 3
   },
   "file_extension": ".py",
   "mimetype": "text/x-python",
   "name": "python",
   "nbconvert_exporter": "python",
   "pygments_lexer": "ipython3",
   "version": "3.9.15"
  },
  "toc": {
   "base_numbering": 1,
   "nav_menu": {},
   "number_sections": true,
   "sideBar": true,
   "skip_h1_title": false,
   "title_cell": "Table of Contents",
   "title_sidebar": "Contents",
   "toc_cell": false,
   "toc_position": {},
   "toc_section_display": true,
   "toc_window_display": false
  },
  "varInspector": {
   "cols": {
    "lenName": 16,
    "lenType": 16,
    "lenVar": 40
   },
   "kernels_config": {
    "python": {
     "delete_cmd_postfix": "",
     "delete_cmd_prefix": "del ",
     "library": "var_list.py",
     "varRefreshCmd": "print(var_dic_list())"
    },
    "r": {
     "delete_cmd_postfix": ") ",
     "delete_cmd_prefix": "rm(",
     "library": "var_list.r",
     "varRefreshCmd": "cat(var_dic_list()) "
    }
   },
   "types_to_exclude": [
    "module",
    "function",
    "builtin_function_or_method",
    "instance",
    "_Feature"
   ],
   "window_display": false
  }
 },
 "nbformat": 4,
 "nbformat_minor": 5
}
